{
 "cells": [
  {
   "cell_type": "markdown",
   "metadata": {},
   "source": [
    "INFO 7390-ADVANCES IN DATA SCIENCES AND ARCHITECTURE- SPRING 2018\n",
    "\n",
    "CAPSTONE PROJECT PORTFOLIO\n",
    "\n",
    "Shrikumar Patil  -   patil.shr@husky.neu.edu   Section 04\n",
    "Akshay Shinde -    shinde.ak@husky.neu.edu  Section 04"
   ]
  },
  {
   "cell_type": "markdown",
   "metadata": {},
   "source": [
    "Analysis of Yelp Dataset for text mining of user Reviews and Rating analysis"
   ]
  },
  {
   "cell_type": "raw",
   "metadata": {},
   "source": [
    "Most text analysis research to date has been on well-formed text documents. Researchers try to discover and thread together topically related material in these documents. However short text mediums are becoming popular in today’s societies and provide quite useful information about people’s current interests, habits, social behavior and tendencies. Large communities like Yelp are based on user generated content (UGC). Most of the time, the contributions from the users is in the form of short text contributions. Unlike traditional web documents, these text and web segments are usually noisier, less topic–focused, and much shorter. They vary from a dozen words to a few sentences. As a result, it is a challenge to achieve desired accuracy due to the data sparseness. \n",
    "\n",
    "Sentiment analysis is often used by companies to quantify general social media opinion (for example, using tweets about several brands to compare customer satisfaction). One of the simplest and most common sentiment analysis methods is to classify words as “positive” or “negative”, then to average the values of each word to categorize the entire document. We intend to analyze if this approach actually produces good results, can we predict the positivity or negativity of someone’s writing by counting words or by understanding the context of the review and understanding rating dimensions using review text.\n",
    "\n",
    "Customer feedback is an essential source of information for improving operations in the service industry, but capturing an accurate and complete picture of the customer experience has always been a challenging task. With the recent rise of social networks and reviews posted on websites and portals, we have access to a large and rapidly growing number of online customer reviews, but most of those reviews consist of unstructured comments that are not amenable to direct analysis using traditional methods. We intend to do text mining and information extraction to analyze these reviews along with the ratings to derive important insights into the collective sentiments of the reviews, performing text classification, and sentiment analysis of a review. Also, recommender systems may be enhanced for customers depending on their positive and negative reviews."
   ]
  },
  {
   "cell_type": "markdown",
   "metadata": {},
   "source": [
    "PART 1: https://github.com/shrikumarp/ADSSpring18/blob/master/ADS_Project1.ipynb\n",
    "\n",
    "In this part we perform basic exploratory data analysis on the yelp dataset, with graphs of review counts and text length distribution etc. Further, we start the process of processing the steps. We first start with tokenization, then we perform count vectorization. Then we split the dataset of generated count vectors from the text reviews and corresponding star rating into training and testing set. What we aim to do here is to train and find the algorithm with maximum accuracy, which can classify a test review correctly into a positive review class or a negative review class. We compared many Algorithms, and also improved performance of some of them using hyper-parameter tuning. The most accurate out of all the algorithms was Logistic Regression after parameter tuning with accuracy of 94%."
   ]
  },
  {
   "cell_type": "code",
   "execution_count": 1,
   "metadata": {
    "collapsed": true
   },
   "outputs": [],
   "source": [
    "import numpy as np\n",
    "import pandas as pd"
   ]
  },
  {
   "cell_type": "code",
   "execution_count": 2,
   "metadata": {
    "collapsed": true
   },
   "outputs": [],
   "source": [
    "yelp = pd.read_csv('https://raw.githubusercontent.com/shrikumarp/shrikumarpp1/master/yelp.csv')"
   ]
  },
  {
   "cell_type": "code",
   "execution_count": 3,
   "metadata": {},
   "outputs": [
    {
     "data": {
      "text/html": [
       "<div>\n",
       "<style>\n",
       "    .dataframe thead tr:only-child th {\n",
       "        text-align: right;\n",
       "    }\n",
       "\n",
       "    .dataframe thead th {\n",
       "        text-align: left;\n",
       "    }\n",
       "\n",
       "    .dataframe tbody tr th {\n",
       "        vertical-align: top;\n",
       "    }\n",
       "</style>\n",
       "<table border=\"1\" class=\"dataframe\">\n",
       "  <thead>\n",
       "    <tr style=\"text-align: right;\">\n",
       "      <th></th>\n",
       "      <th>business_id</th>\n",
       "      <th>date</th>\n",
       "      <th>review_id</th>\n",
       "      <th>stars</th>\n",
       "      <th>text</th>\n",
       "      <th>type</th>\n",
       "      <th>user_id</th>\n",
       "      <th>cool</th>\n",
       "      <th>useful</th>\n",
       "      <th>funny</th>\n",
       "    </tr>\n",
       "  </thead>\n",
       "  <tbody>\n",
       "    <tr>\n",
       "      <th>0</th>\n",
       "      <td>9yKzy9PApeiPPOUJEtnvkg</td>\n",
       "      <td>2011-01-26</td>\n",
       "      <td>fWKvX83p0-ka4JS3dc6E5A</td>\n",
       "      <td>5</td>\n",
       "      <td>My wife took me here on my birthday for breakf...</td>\n",
       "      <td>review</td>\n",
       "      <td>rLtl8ZkDX5vH5nAx9C3q5Q</td>\n",
       "      <td>2</td>\n",
       "      <td>5</td>\n",
       "      <td>0</td>\n",
       "    </tr>\n",
       "    <tr>\n",
       "      <th>1</th>\n",
       "      <td>ZRJwVLyzEJq1VAihDhYiow</td>\n",
       "      <td>2011-07-27</td>\n",
       "      <td>IjZ33sJrzXqU-0X6U8NwyA</td>\n",
       "      <td>5</td>\n",
       "      <td>I have no idea why some people give bad review...</td>\n",
       "      <td>review</td>\n",
       "      <td>0a2KyEL0d3Yb1V6aivbIuQ</td>\n",
       "      <td>0</td>\n",
       "      <td>0</td>\n",
       "      <td>0</td>\n",
       "    </tr>\n",
       "    <tr>\n",
       "      <th>2</th>\n",
       "      <td>6oRAC4uyJCsJl1X0WZpVSA</td>\n",
       "      <td>2012-06-14</td>\n",
       "      <td>IESLBzqUCLdSzSqm0eCSxQ</td>\n",
       "      <td>4</td>\n",
       "      <td>love the gyro plate. Rice is so good and I als...</td>\n",
       "      <td>review</td>\n",
       "      <td>0hT2KtfLiobPvh6cDC8JQg</td>\n",
       "      <td>0</td>\n",
       "      <td>1</td>\n",
       "      <td>0</td>\n",
       "    </tr>\n",
       "    <tr>\n",
       "      <th>3</th>\n",
       "      <td>_1QQZuf4zZOyFCvXc0o6Vg</td>\n",
       "      <td>2010-05-27</td>\n",
       "      <td>G-WvGaISbqqaMHlNnByodA</td>\n",
       "      <td>5</td>\n",
       "      <td>Rosie, Dakota, and I LOVE Chaparral Dog Park!!...</td>\n",
       "      <td>review</td>\n",
       "      <td>uZetl9T0NcROGOyFfughhg</td>\n",
       "      <td>1</td>\n",
       "      <td>2</td>\n",
       "      <td>0</td>\n",
       "    </tr>\n",
       "    <tr>\n",
       "      <th>4</th>\n",
       "      <td>6ozycU1RpktNG2-1BroVtw</td>\n",
       "      <td>2012-01-05</td>\n",
       "      <td>1uJFq2r5QfJG_6ExMRCaGw</td>\n",
       "      <td>5</td>\n",
       "      <td>General Manager Scott Petello is a good egg!!!...</td>\n",
       "      <td>review</td>\n",
       "      <td>vYmM4KTsC8ZfQBg-j5MWkw</td>\n",
       "      <td>0</td>\n",
       "      <td>0</td>\n",
       "      <td>0</td>\n",
       "    </tr>\n",
       "  </tbody>\n",
       "</table>\n",
       "</div>"
      ],
      "text/plain": [
       "              business_id        date               review_id  stars  \\\n",
       "0  9yKzy9PApeiPPOUJEtnvkg  2011-01-26  fWKvX83p0-ka4JS3dc6E5A      5   \n",
       "1  ZRJwVLyzEJq1VAihDhYiow  2011-07-27  IjZ33sJrzXqU-0X6U8NwyA      5   \n",
       "2  6oRAC4uyJCsJl1X0WZpVSA  2012-06-14  IESLBzqUCLdSzSqm0eCSxQ      4   \n",
       "3  _1QQZuf4zZOyFCvXc0o6Vg  2010-05-27  G-WvGaISbqqaMHlNnByodA      5   \n",
       "4  6ozycU1RpktNG2-1BroVtw  2012-01-05  1uJFq2r5QfJG_6ExMRCaGw      5   \n",
       "\n",
       "                                                text    type  \\\n",
       "0  My wife took me here on my birthday for breakf...  review   \n",
       "1  I have no idea why some people give bad review...  review   \n",
       "2  love the gyro plate. Rice is so good and I als...  review   \n",
       "3  Rosie, Dakota, and I LOVE Chaparral Dog Park!!...  review   \n",
       "4  General Manager Scott Petello is a good egg!!!...  review   \n",
       "\n",
       "                  user_id  cool  useful  funny  \n",
       "0  rLtl8ZkDX5vH5nAx9C3q5Q     2       5      0  \n",
       "1  0a2KyEL0d3Yb1V6aivbIuQ     0       0      0  \n",
       "2  0hT2KtfLiobPvh6cDC8JQg     0       1      0  \n",
       "3  uZetl9T0NcROGOyFfughhg     1       2      0  \n",
       "4  vYmM4KTsC8ZfQBg-j5MWkw     0       0      0  "
      ]
     },
     "execution_count": 3,
     "metadata": {},
     "output_type": "execute_result"
    }
   ],
   "source": [
    "yelp.head()"
   ]
  },
  {
   "cell_type": "code",
   "execution_count": 4,
   "metadata": {
    "collapsed": true
   },
   "outputs": [],
   "source": [
    "import matplotlib.pyplot as plt\n",
    "%matplotlib inline\n",
    "import seaborn as sns"
   ]
  },
  {
   "cell_type": "code",
   "execution_count": 5,
   "metadata": {},
   "outputs": [
    {
     "data": {
      "image/png": "[encoded data removed]",
      "text/plain": [
       "<matplotlib.figure.Figure at 0x10aba6fd0>"
      ]
     },
     "metadata": {},
     "output_type": "display_data"
    }
   ],
   "source": [
    "x=yelp['stars'].value_counts()\n",
    "y=x.sort_index()\n",
    "\n",
    "plt.figure(figsize=(8,4))\n",
    "ax= sns.barplot(y.index, x.values, alpha=0.8)\n",
    "plt.title(\"Yelp Stars for business\")\n",
    "plt.ylabel('Number of businesses', fontsize=12)\n",
    "plt.xlabel('Stars acquired ', fontsize=12);\n",
    "#counting the number of reviews for each of the rating level available to the reviewers."
   ]
  },
  {
   "cell_type": "code",
   "execution_count": 7,
   "metadata": {},
   "outputs": [
    {
     "data": {
      "text/plain": [
       "<seaborn.axisgrid.FacetGrid at 0x1a18dd32e8>"
      ]
     },
     "execution_count": 7,
     "metadata": {},
     "output_type": "execute_result"
    },
    {
     "data": {
      "image/png": "[encoded data removed]",
      "text/plain": [
       "<matplotlib.figure.Figure at 0x1a18b93e48>"
      ]
     },
     "metadata": {},
     "output_type": "display_data"
    }
   ],
   "source": [
    "#visualising average text length for star reviews\n",
    "yelp['text length'] = yelp['text'].apply(len)\n",
    "g = sns.FacetGrid(yelp,col='stars')\n",
    "g.map(plt.hist,'text length')"
   ]
  },
  {
   "cell_type": "code",
   "execution_count": 13,
   "metadata": {},
   "outputs": [
    {
     "data": {
      "text/html": [
       "<div>\n",
       "<style>\n",
       "    .dataframe thead tr:only-child th {\n",
       "        text-align: right;\n",
       "    }\n",
       "\n",
       "    .dataframe thead th {\n",
       "        text-align: left;\n",
       "    }\n",
       "\n",
       "    .dataframe tbody tr th {\n",
       "        vertical-align: top;\n",
       "    }\n",
       "</style>\n",
       "<table border=\"1\" class=\"dataframe\">\n",
       "  <thead>\n",
       "    <tr style=\"text-align: right;\">\n",
       "      <th></th>\n",
       "      <th>cool</th>\n",
       "      <th>useful</th>\n",
       "      <th>funny</th>\n",
       "      <th>text length</th>\n",
       "    </tr>\n",
       "  </thead>\n",
       "  <tbody>\n",
       "    <tr>\n",
       "      <th>cool</th>\n",
       "      <td>1.000000</td>\n",
       "      <td>-0.743329</td>\n",
       "      <td>-0.944939</td>\n",
       "      <td>-0.857664</td>\n",
       "    </tr>\n",
       "    <tr>\n",
       "      <th>useful</th>\n",
       "      <td>-0.743329</td>\n",
       "      <td>1.000000</td>\n",
       "      <td>0.894506</td>\n",
       "      <td>0.699881</td>\n",
       "    </tr>\n",
       "    <tr>\n",
       "      <th>funny</th>\n",
       "      <td>-0.944939</td>\n",
       "      <td>0.894506</td>\n",
       "      <td>1.000000</td>\n",
       "      <td>0.843461</td>\n",
       "    </tr>\n",
       "    <tr>\n",
       "      <th>text length</th>\n",
       "      <td>-0.857664</td>\n",
       "      <td>0.699881</td>\n",
       "      <td>0.843461</td>\n",
       "      <td>1.000000</td>\n",
       "    </tr>\n",
       "  </tbody>\n",
       "</table>\n",
       "</div>"
      ],
      "text/plain": [
       "                 cool    useful     funny  text length\n",
       "cool         1.000000 -0.743329 -0.944939    -0.857664\n",
       "useful      -0.743329  1.000000  0.894506     0.699881\n",
       "funny       -0.944939  0.894506  1.000000     0.843461\n",
       "text length -0.857664  0.699881  0.843461     1.000000"
      ]
     },
     "execution_count": 13,
     "metadata": {},
     "output_type": "execute_result"
    }
   ],
   "source": [
    "stars = yelp.groupby('stars').mean()\n",
    "stars\n",
    "stars.corr()"
   ]
  },
  {
   "cell_type": "code",
   "execution_count": 14,
   "metadata": {
    "collapsed": true
   },
   "outputs": [],
   "source": [
    "yelp_class = yelp[(yelp.stars==1) | (yelp.stars==5)]"
   ]
  },
  {
   "cell_type": "code",
   "execution_count": 15,
   "metadata": {
    "collapsed": true
   },
   "outputs": [],
   "source": [
    "X = yelp_class['text']\n",
    "y = yelp_class['stars']"
   ]
  },
  {
   "cell_type": "code",
   "execution_count": 16,
   "metadata": {
    "collapsed": true
   },
   "outputs": [],
   "source": [
    "from sklearn.feature_extraction.text import CountVectorizer\n",
    "cv = CountVectorizer()\n",
    "\n",
    "# count vectorization converts the text into integerized count vectors corresponding to the occurence of a particular word in the sentence."
   ]
  },
  {
   "cell_type": "code",
   "execution_count": 17,
   "metadata": {
    "collapsed": true
   },
   "outputs": [],
   "source": [
    "X = cv.fit_transform(X)"
   ]
  },
  {
   "cell_type": "code",
   "execution_count": 18,
   "metadata": {
    "collapsed": true
   },
   "outputs": [],
   "source": [
    "from sklearn.model_selection import train_test_split"
   ]
  },
  {
   "cell_type": "code",
   "execution_count": 19,
   "metadata": {
    "collapsed": true
   },
   "outputs": [],
   "source": [
    "X_train, X_test, y_train, y_test = train_test_split(X, y,test_size=0.3,random_state=101)"
   ]
  },
  {
   "cell_type": "code",
   "execution_count": 20,
   "metadata": {
    "collapsed": true
   },
   "outputs": [],
   "source": [
    "# First we use Naive Bayes Algorithm.\n",
    "\n",
    "from sklearn.naive_bayes import MultinomialNB\n",
    "nb = MultinomialNB()"
   ]
  },
  {
   "cell_type": "code",
   "execution_count": 21,
   "metadata": {},
   "outputs": [
    {
     "data": {
      "text/plain": [
       "MultinomialNB(alpha=1.0, class_prior=None, fit_prior=True)"
      ]
     },
     "execution_count": 21,
     "metadata": {},
     "output_type": "execute_result"
    }
   ],
   "source": [
    "nb.fit(X_train,y_train)"
   ]
  },
  {
   "cell_type": "code",
   "execution_count": 22,
   "metadata": {
    "collapsed": true
   },
   "outputs": [],
   "source": [
    "predictions = nb.predict(X_test)"
   ]
  },
  {
   "cell_type": "code",
   "execution_count": 23,
   "metadata": {
    "collapsed": true
   },
   "outputs": [],
   "source": [
    "from sklearn.metrics import confusion_matrix,classification_report"
   ]
  },
  {
   "cell_type": "code",
   "execution_count": 24,
   "metadata": {},
   "outputs": [
    {
     "name": "stdout",
     "output_type": "stream",
     "text": [
      "[[159  69]\n",
      " [ 22 976]]\n",
      "\n",
      "\n",
      "             precision    recall  f1-score   support\n",
      "\n",
      "          1       0.88      0.70      0.78       228\n",
      "          5       0.93      0.98      0.96       998\n",
      "\n",
      "avg / total       0.92      0.93      0.92      1226\n",
      "\n"
     ]
    }
   ],
   "source": [
    "print(confusion_matrix(y_test,predictions))\n",
    "print('\\n')\n",
    "print(classification_report(y_test,predictions))"
   ]
  },
  {
   "cell_type": "markdown",
   "metadata": {},
   "source": [
    "Below is some background of the classification report and confusion matrix as we will be using these a lot to evaluate the classification results.\n",
    "\n",
    "This gives us:\n",
    "•\t“true positive” for correctly predicted event values.\n",
    "\n",
    "•\t“false positive” for incorrectly predicted event values.\n",
    "\n",
    "•\t“true negative” for correctly predicted no-event values.\n",
    "\n",
    "•\t“false negative” for incorrectly predicted no-event values.\n",
    "We can summarize this in the confusion matrix as follows:\n",
    "\n",
    "\n",
    "                    event\t\t\tno-event\n",
    "    event\t\t-true positive\t\tfalse positive\n",
    "    no-event\t-false negative\t\ttrue negative\n",
    "\n",
    "\n",
    "This can help in calculating more advanced classification metrics such as precision, recall, specificity and sensitivity of our classifier.\n",
    "Classification Rate/Accuracy:\n",
    "Classification Rate or Accuracy is given by the relation:\n",
    " \n",
    "However, there are problems with accuracy. It assumes equal costs for both kinds of errors. A 99% accuracy can be excellent, good, mediocre, poor or terrible depending upon the problem.\n",
    "Recall:\n",
    "Recall can be defined as the ratio of the total number of correctly classified positive examples divide to the total number of positive examples. High Recall indicates the class is correctly recognized (small number of FN).\n",
    "Recall is given by the relation:\n",
    " \n",
    "Precision:\n",
    "To get the value of precision we divide the total number of correctly classified positive examples by the total number of predicted positive examples. High Precision indicates an example labeled as positive is indeed positive (small number of FP).\n",
    "Precision is given by the relation:\n",
    " \n",
    "High recall, low precision:This means that most of the positive examples are correctly recognized (low FN) but there are a lot of false positives.\n",
    "Low recall, high precision:This shows that we miss a lot of positive examples (high FN) but those we predict as positive are indeed positive (low FP)\n",
    "F-measure:\n",
    "Since we have two measures (Precision and Recall) it helps to have a measurement that represents both of them. We calculate an F-measure which uses Harmonic Mean in place of Arithmetic Mean as it punishes the extreme values more.\n",
    "The F-Measure will always be nearer to the smaller value of Precision or Recall.\n",
    " \n",
    "Let’s consider an example now, in which we have infinite data elements of class B and a single element of class A and the model is predicting class A against all the instances in the test data.\n",
    "Here,\n",
    "Precision:0.0\n",
    "Recall : 1.0\n"
   ]
  },
  {
   "cell_type": "markdown",
   "metadata": {
    "collapsed": true
   },
   "source": [
    "."
   ]
  },
  {
   "cell_type": "markdown",
   "metadata": {
    "collapsed": true
   },
   "source": [
    "Support Vector Classifier"
   ]
  },
  {
   "cell_type": "code",
   "execution_count": 25,
   "metadata": {
    "collapsed": true
   },
   "outputs": [],
   "source": [
    "from sklearn.model_selection import GridSearchCV\n",
    "parameters = [{'C': [1, 10, 100], 'kernel': ['linear']},\n",
    "              {'C': [1, 10, 100], 'kernel': ['rbf']}]"
   ]
  },
  {
   "cell_type": "code",
   "execution_count": 26,
   "metadata": {
    "collapsed": true
   },
   "outputs": [],
   "source": [
    "from sklearn.svm import SVC"
   ]
  },
  {
   "cell_type": "code",
   "execution_count": 27,
   "metadata": {
    "collapsed": true
   },
   "outputs": [],
   "source": [
    "svmmodel = SVC()"
   ]
  },
  {
   "cell_type": "code",
   "execution_count": 28,
   "metadata": {},
   "outputs": [
    {
     "data": {
      "text/plain": [
       "SVC(C=1.0, cache_size=200, class_weight=None, coef0=0.0,\n",
       "  decision_function_shape='ovr', degree=3, gamma='auto', kernel='rbf',\n",
       "  max_iter=-1, probability=False, random_state=None, shrinking=True,\n",
       "  tol=0.001, verbose=False)"
      ]
     },
     "execution_count": 28,
     "metadata": {},
     "output_type": "execute_result"
    }
   ],
   "source": [
    "svmmodel.fit(X_train,y_train)"
   ]
  },
  {
   "cell_type": "code",
   "execution_count": 29,
   "metadata": {
    "collapsed": true
   },
   "outputs": [],
   "source": [
    "predsvm= svmmodel.predict(X_test)"
   ]
  },
  {
   "cell_type": "code",
   "execution_count": 30,
   "metadata": {},
   "outputs": [
    {
     "name": "stdout",
     "output_type": "stream",
     "text": [
      "[[  0 228]\n",
      " [  0 998]]\n",
      "\n",
      "\n",
      "             precision    recall  f1-score   support\n",
      "\n",
      "          1       0.00      0.00      0.00       228\n",
      "          5       0.81      1.00      0.90       998\n",
      "\n",
      "avg / total       0.66      0.81      0.73      1226\n",
      "\n"
     ]
    },
    {
     "name": "stderr",
     "output_type": "stream",
     "text": [
      "/Users/shrikumarpatil/anaconda3/lib/python3.6/site-packages/sklearn/metrics/classification.py:1135: UndefinedMetricWarning: Precision and F-score are ill-defined and being set to 0.0 in labels with no predicted samples.\n",
      "  'precision', 'predicted', average, warn_for)\n"
     ]
    }
   ],
   "source": [
    "print(confusion_matrix(y_test,predsvm))\n",
    "print('\\n')\n",
    "print(classification_report(y_test,predsvm))"
   ]
  },
  {
   "cell_type": "markdown",
   "metadata": {
    "collapsed": true
   },
   "source": [
    "Now we use the parameters list defined above to try to tune the parameter 'C' to see if we can squeeze out more accuracy out of this classifier."
   ]
  },
  {
   "cell_type": "code",
   "execution_count": 31,
   "metadata": {
    "collapsed": true
   },
   "outputs": [],
   "source": [
    "grid_search_svm = GridSearchCV(estimator = svmmodel,\n",
    "                           param_grid = parameters,\n",
    "                           scoring = 'accuracy',\n",
    "                           cv = 10,\n",
    "                           n_jobs = -1)\n",
    "\n",
    "#GridSearchCV(estimator, param_grid, scoring=None, fit_params=None, n_jobs=1, iid=True, refit=True, cv=None, verbose=0, pre_dispatch=‘2*n_jobs’, error_score=’raise’, return_train_score=’warn’\n",
    "# scoring and comparison within models is based on accuracy.The most accurate model will be chosen after training and croass validation."
   ]
  },
  {
   "cell_type": "code",
   "execution_count": 32,
   "metadata": {
    "collapsed": true
   },
   "outputs": [],
   "source": [
    "grid_search_svm = grid_search_svm.fit(X_train, y_train)"
   ]
  },
  {
   "cell_type": "code",
   "execution_count": 33,
   "metadata": {},
   "outputs": [
    {
     "data": {
      "text/plain": [
       "0.91573426573426575"
      ]
     },
     "execution_count": 33,
     "metadata": {},
     "output_type": "execute_result"
    }
   ],
   "source": [
    "grid_search_svm.best_score_"
   ]
  },
  {
   "cell_type": "code",
   "execution_count": 34,
   "metadata": {},
   "outputs": [
    {
     "data": {
      "text/plain": [
       "{'C': 1, 'kernel': 'linear'}"
      ]
     },
     "execution_count": 34,
     "metadata": {},
     "output_type": "execute_result"
    }
   ],
   "source": [
    "grid_search_svm.best_params_"
   ]
  },
  {
   "cell_type": "markdown",
   "metadata": {
    "collapsed": true
   },
   "source": [
    "As we can wee, the best selected parameters from the Girid search of better parameters turned out to be C= 1 and kernel ='Linear', and this model performed with the accuracy of 91.57%."
   ]
  },
  {
   "cell_type": "markdown",
   "metadata": {
    "collapsed": true
   },
   "source": [
    "."
   ]
  },
  {
   "cell_type": "markdown",
   "metadata": {
    "collapsed": true
   },
   "source": [
    "Using Random Forest Classifier Algorithm"
   ]
  },
  {
   "cell_type": "code",
   "execution_count": 35,
   "metadata": {
    "collapsed": true
   },
   "outputs": [],
   "source": [
    "from sklearn.ensemble import RandomForestClassifier\n",
    "rforest = RandomForestClassifier(n_estimators = 10, criterion = 'entropy', random_state = 0)"
   ]
  },
  {
   "cell_type": "code",
   "execution_count": 36,
   "metadata": {},
   "outputs": [
    {
     "data": {
      "text/plain": [
       "RandomForestClassifier(bootstrap=True, class_weight=None, criterion='entropy',\n",
       "            max_depth=None, max_features='auto', max_leaf_nodes=None,\n",
       "            min_impurity_decrease=0.0, min_impurity_split=None,\n",
       "            min_samples_leaf=1, min_samples_split=2,\n",
       "            min_weight_fraction_leaf=0.0, n_estimators=10, n_jobs=1,\n",
       "            oob_score=False, random_state=0, verbose=0, warm_start=False)"
      ]
     },
     "execution_count": 36,
     "metadata": {},
     "output_type": "execute_result"
    }
   ],
   "source": [
    "rforest.fit(X_train, y_train)"
   ]
  },
  {
   "cell_type": "code",
   "execution_count": 37,
   "metadata": {
    "collapsed": true
   },
   "outputs": [],
   "source": [
    "rfpred= rforest.predict(X_test)"
   ]
  },
  {
   "cell_type": "code",
   "execution_count": 38,
   "metadata": {},
   "outputs": [
    {
     "name": "stdout",
     "output_type": "stream",
     "text": [
      "[[ 81 147]\n",
      " [ 19 979]]\n",
      "\n",
      "\n",
      "             precision    recall  f1-score   support\n",
      "\n",
      "          1       0.81      0.36      0.49       228\n",
      "          5       0.87      0.98      0.92       998\n",
      "\n",
      "avg / total       0.86      0.86      0.84      1226\n",
      "\n"
     ]
    }
   ],
   "source": [
    "print(confusion_matrix(y_test,rfpred))\n",
    "print('\\n')\n",
    "print(classification_report(y_test,rfpred))"
   ]
  },
  {
   "cell_type": "markdown",
   "metadata": {
    "collapsed": true
   },
   "source": [
    "."
   ]
  },
  {
   "cell_type": "markdown",
   "metadata": {
    "collapsed": true
   },
   "source": [
    "Using Logistic Regression"
   ]
  },
  {
   "cell_type": "code",
   "execution_count": 39,
   "metadata": {
    "collapsed": true
   },
   "outputs": [],
   "source": [
    "from sklearn.linear_model  import LogisticRegression\n",
    "from sklearn.model_selection import GridSearchCV"
   ]
  },
  {
   "cell_type": "markdown",
   "metadata": {
    "collapsed": true
   },
   "source": [
    "We set the parameter grid again with a random space of values for parameter C, and we try to get the  maximum accuracy by tuning the hyperparameters."
   ]
  },
  {
   "cell_type": "code",
   "execution_count": 40,
   "metadata": {
    "collapsed": true
   },
   "outputs": [],
   "source": [
    "c_space = np.logspace(-5, 8, 15)\n",
    "param_grid = {'C': c_space}"
   ]
  },
  {
   "cell_type": "code",
   "execution_count": 41,
   "metadata": {
    "collapsed": true
   },
   "outputs": [],
   "source": [
    "logreg = LogisticRegression()"
   ]
  },
  {
   "cell_type": "code",
   "execution_count": 42,
   "metadata": {
    "collapsed": true
   },
   "outputs": [],
   "source": [
    "logreg_cv = GridSearchCV(logreg, param_grid, cv= 10)\n",
    "# here we pass the parameters of the Logistic regression model, the parameter values array and the number of Cross validations as 10 to the GridSearchCV function."
   ]
  },
  {
   "cell_type": "code",
   "execution_count": 43,
   "metadata": {},
   "outputs": [
    {
     "data": {
      "text/plain": [
       "GridSearchCV(cv=10, error_score='raise',\n",
       "       estimator=LogisticRegression(C=1.0, class_weight=None, dual=False, fit_intercept=True,\n",
       "          intercept_scaling=1, max_iter=100, multi_class='ovr', n_jobs=1,\n",
       "          penalty='l2', random_state=None, solver='liblinear', tol=0.0001,\n",
       "          verbose=0, warm_start=False),\n",
       "       fit_params=None, iid=True, n_jobs=1,\n",
       "       param_grid={'C': array([  1.00000e-05,   8.48343e-05,   7.19686e-04,   6.10540e-03,\n",
       "         5.17947e-02,   4.39397e-01,   3.72759e+00,   3.16228e+01,\n",
       "         2.68270e+02,   2.27585e+03,   1.93070e+04,   1.63789e+05,\n",
       "         1.38950e+06,   1.17877e+07,   1.00000e+08])},\n",
       "       pre_dispatch='2*n_jobs', refit=True, return_train_score='warn',\n",
       "       scoring=None, verbose=0)"
      ]
     },
     "execution_count": 43,
     "metadata": {},
     "output_type": "execute_result"
    }
   ],
   "source": [
    "logreg_cv.fit(X_train,y_train)"
   ]
  },
  {
   "cell_type": "code",
   "execution_count": 44,
   "metadata": {},
   "outputs": [
    {
     "name": "stdout",
     "output_type": "stream",
     "text": [
      "Tuned Logistic Regression Parameters: {'C': 3.7275937203149381}\n",
      "Best score is 0.9276223776223776\n"
     ]
    }
   ],
   "source": [
    "print(\"Tuned Logistic Regression Parameters: {}\".format(logreg_cv.best_params_)) \n",
    "print(\"Best score is {}\".format(logreg_cv.best_score_))"
   ]
  },
  {
   "cell_type": "code",
   "execution_count": 45,
   "metadata": {
    "collapsed": true
   },
   "outputs": [],
   "source": [
    "# we predict on the test set\n",
    "pred = logreg_cv.predict(X_test)"
   ]
  },
  {
   "cell_type": "code",
   "execution_count": 46,
   "metadata": {},
   "outputs": [
    {
     "name": "stdout",
     "output_type": "stream",
     "text": [
      "             precision    recall  f1-score   support\n",
      "\n",
      "          1       0.86      0.79      0.83       228\n",
      "          5       0.95      0.97      0.96       998\n",
      "\n",
      "avg / total       0.94      0.94      0.94      1226\n",
      "\n"
     ]
    }
   ],
   "source": [
    "print(classification_report(y_test,pred))"
   ]
  },
  {
   "cell_type": "markdown",
   "metadata": {
    "collapsed": true
   },
   "source": [
    "As we can see, Logistic regression with hyperparameter tuning performs with the best accuracy with 94%."
   ]
  },
  {
   "cell_type": "markdown",
   "metadata": {
    "collapsed": true
   },
   "source": [
    "."
   ]
  },
  {
   "cell_type": "markdown",
   "metadata": {},
   "source": [
    "PART 2: https://github.com/shrikumarp/ADSSpring18/blob/master/ADS_Project2.ipynb\n",
    "\n",
    "In this part, we use Bidirectional LSTM neural networks to classify the reviews into positive or negative review. The LSTM model performed with accuracy of 81.95.\n",
    "To understand LSTMs, let us first quickly understand the background of Recurrent Neural Networks. As we are dealing with text data, the context of the sentence is very important. The things said earlier in a review, will still make sense and hold true to provide strong context or basis for the text further in the review. RNN’s are such networks which have the ability to persist information, because they have a loop and a feedback mechanism within them. Each word in a sentence depends greatly on what came before and comes after it. In order to account for this dependency, we use a recurrent neural network. However, traditional RNN’s have a problem of long term dependency. For example, if we are trying to predict the last word of a sentence, and we have some useful appropriate context in the same sentence, then maybe it’s fine, but if you have to predict the last word of this sentence according to the information and context from a sentence or two before that sentence, then RNN’s won’t be of much help as they do not retain long term information. This problem of RNN’s is solved by LSTM’s: Long Short Term Memory networks.\n",
    "Long Short Term Memory networks – usually just called “LSTMs” – are a special kind of RNN, capable of learning long-term dependencies. They work tremendously well on a large variety of problems, and are now widely used. \n",
    "Long Short Term Memory Units are modules that you can place inside of recurrent neural networks. At a high level, they make sure that the hidden state vector h is able to encapsulate information about long term dependencies in the text. \n",
    "\n",
    "In RNNs, each word in an input sequence will be associated with a specific time step. In effect, the number of time steps will be equal to the max sequence length. RNN hidden state vector equation:\n",
    " \n",
    "\n",
    "Associated with each time step is also a new component called a hidden state vector ht. From a high level, this vector seeks to encapsulate and summarize all of the information that was seen in the previous time steps. Just like xt is a vector that encapsulates all the information of a specific word, ht is a vector that summarizes information from previous time steps.The hidden state is a function of both the current word vector and the hidden state vector at the previous time step. The sigma indicates that the sum of the two terms will be put through an activation function (normally a sigmoid or tanh). \n",
    "Equations for LSTM:\n",
    "i (t) = σ(W(i) x (t) + U (i) h (t−1)) (Input gate) \n",
    "\n",
    "f (t) = σ(W(f) x (t) + U (f) h (t−1)) (Forget gate) \n",
    "\n",
    "o (t) = σ(W(o) x (t) + U (o) h (t−1)) (Output/Exposure gate) \n",
    "\n",
    "c˜ (t) = tanh(W(c) x (t) + U (c) h (t−1)) (New memory cell) \n",
    "\n",
    "c (t) = f (t) ◦ c˜ (t−1) + i (t) ◦ c˜ (t) (Final memory cell) \n",
    "\n",
    "h (t) = o (t) ◦ tanh(c (t) )\n",
    "\n",
    " \n",
    "\n",
    "\n",
    "Looking at LSTM units from a more technical viewpoint, the units take in the current word vector xt and output the hidden state vector ht. In these units, the formulation for ht will be a bit more complex than that in a typical RNN. The computation is broken up into 4 components, an input gate, a forget gate, an output gate, and a new memory container.\n",
    "Each gate will take in xt and ht-1 (not shown in image) as inputs and will perform some computation on them to obtain intermediate states. Each intermediate state gets fed into different pipelines and eventually the information is aggregated to form ht. For simplicity sake, we won't go into the specific formulations for each gate, but it's worth noting that each of these gates can be thought of as different modules within the LSTM that each have different functions. The input gate determines how much emphasis to put on each of the inputs, the forget gate determines the information that we'll throw away, and the output gate determines the final ht based on the intermediate states.\n",
    "\n",
    "For a more detailed look at LSTM's, please refer Christopher Olah's amazing blogpost : http://colah.github.io/posts/2015-08-Understanding-LSTMs/\n"
   ]
  },
  {
   "cell_type": "code",
   "execution_count": 47,
   "metadata": {
    "collapsed": true
   },
   "outputs": [],
   "source": [
    "#please make sure you have the following libraries installed before continuing running this notebook\n",
    "#pip install tensorflow\n",
    "#keras needs tensorflow or other backends as caffe or theano\n",
    "#pip install keras"
   ]
  },
  {
   "cell_type": "markdown",
   "metadata": {
    "collapsed": true
   },
   "source": [
    "Download the Glove text word vector file here: https://www.dropbox.com/s/my83b23ev2h9qgp/glove.6B.50d.txt?dl=1\n",
    "After downloading please place it in the directory same as that of this notebook or give appropriate path."
   ]
  },
  {
   "cell_type": "markdown",
   "metadata": {
    "collapsed": true
   },
   "source": [
    "Framing Sentiment analysis as a deep Learning Problem\n",
    "1) Training a word vector generation model (such as Word2Vec) or loading pretrained word vectors\n",
    "\n",
    "2) Creating an ID's matrix for our training set (We'll discuss this a bit later)\n",
    "\n",
    "3) RNN (With LSTM units) graph creation\n",
    "\n",
    "4) Training \n",
    "\n",
    "5) Testing\n",
    "\n",
    "\n",
    "Also, we use Glove vector generation model for word2vec embeddings here.\n",
    "We're going to be importing two different data structures, one will be a Python list with the 400,000 words, and one will be a 400,000 x 50 dimensional embedding matrix that holds all of the word vector values."
   ]
  },
  {
   "cell_type": "markdown",
   "metadata": {},
   "source": [
    "Word Vectors\n",
    "In order to understand how deep learning can be applied, think about all the different forms of data that are used as inputs into machine learning or deep learning models. Convolutional neural networks use arrays of pixel values, logistic regression uses quantifiable features, and reinforcement learning models use reward signals. The common theme is that the inputs need to be scalar values, or matrices of scalar values. When you think of NLP tasks, however, a data pipeline like this may come to mind.\n",
    " \n",
    "This kind of pipeline is problematic. There is no way for us to do common operations like dot products or backpropagation on a single string. Instead of having a string input, we will need to convert each word in the sentence to a vector.\n",
    " \n",
    "You can think of the input to the sentiment analysis module as being a 16 x D dimensional matrix.\n",
    "We want these vectors to be created in such a way that they somehow represent the word and its context, meaning, and semantics. For example, we’d like the vectors for the words “love” and “adore” to reside in relatively the same area in the vector space since they both have similar definitions and are both used in similar contexts. The vector representation of a word is also known as a word embedding.\n",
    " \n",
    "Word2Vec\n",
    "In order to create these word embeddings, we'll use a model that's commonly reffered to as \"Word2Vec\". Without going into too much detail, the model creates word vectors by looking at the context with which words appear in sentences. Words with similar contexts will be placed close together in the vector space. In natural language, the context of words can be very important when trying to determine their meanings. Taking our previous example of the words \"adore\" and \"love\", consider the types of sentences we'd find these words in.\n",
    " \n",
    "From the context of the sentences, we can see that both words are generally used in sentences with positive connotations and generally precede nouns or noun phrases. This is an indication that both words have something in common and can possibly be synonyms. Context is also very important when considering grammatical structure in sentences. Most sentences will follow traditional paradigms of having verbs follow nouns, adjectives precede nouns, and so on. For this reason, the model is more likely to position nouns in the same general area as other nouns. The model takes in a large dataset of sentences (English Wikipedia for example) and outputs vectors for each unique word in the corpus. The output of a Word2Vec model is called an embedding matrix.\n",
    " \n",
    "This embedding matrix will contain vectors for every distinct word in the training corpus. Traditionally, embedding matrices can contain over 3 million word vectors.\n",
    "The Word2Vec model is trained by taking each sentence in the dataset, sliding a window of fixed size over it, and trying to predict the center word of the window, given the other words. Using a loss function and optimization procedure, the model generates vectors for each unique word. The specifics of this training procedure can get a little complicated, so we’re going to skip over the details for now, but the main takeaway here is that inputs into any Deep Learning approach to an NLP task will likely have word vectors as input.\n",
    "For more information on the theory behind Word2Vec and how you create your own embeddings, check out Tensorflow's tutorial.: https://www.tensorflow.org/tutorials/word2vec"
   ]
  },
  {
   "cell_type": "code",
   "execution_count": 48,
   "metadata": {
    "collapsed": true
   },
   "outputs": [],
   "source": [
    "import numpy as np\n",
    "import pandas as pd"
   ]
  },
  {
   "cell_type": "code",
   "execution_count": 49,
   "metadata": {
    "collapsed": true
   },
   "outputs": [],
   "source": [
    "yelp = pd.read_csv('https://raw.githubusercontent.com/shrikumarp/shrikumarpp1/master/yelp.csv', usecols = [\"stars\", \"text\"])"
   ]
  },
  {
   "cell_type": "code",
   "execution_count": 50,
   "metadata": {
    "collapsed": true
   },
   "outputs": [],
   "source": [
    "import matplotlib.pyplot as plt\n",
    "%matplotlib inline\n",
    "import seaborn as sns"
   ]
  },
  {
   "cell_type": "code",
   "execution_count": 51,
   "metadata": {},
   "outputs": [
    {
     "data": {
      "image/png": "[encoded data removed]",
      "text/plain": [
       "<matplotlib.figure.Figure at 0x10c58ac50>"
      ]
     },
     "metadata": {},
     "output_type": "display_data"
    }
   ],
   "source": [
    "x=yelp['stars'].value_counts()\n",
    "y=x.sort_index()\n",
    "\n",
    "plt.figure(figsize=(8,4))\n",
    "ax= sns.barplot(y.index, x.values, alpha=0.8)\n",
    "plt.title(\"Yelp Stars for business\")\n",
    "plt.ylabel('Number of businesses', fontsize=12)\n",
    "plt.xlabel('Stars acquired ', fontsize=12);\n",
    "#counting the number of reviews for each of the rating level available to the reviewers."
   ]
  },
  {
   "cell_type": "code",
   "execution_count": 52,
   "metadata": {},
   "outputs": [
    {
     "data": {
      "text/html": [
       "<div>\n",
       "<style>\n",
       "    .dataframe thead tr:only-child th {\n",
       "        text-align: right;\n",
       "    }\n",
       "\n",
       "    .dataframe thead th {\n",
       "        text-align: left;\n",
       "    }\n",
       "\n",
       "    .dataframe tbody tr th {\n",
       "        vertical-align: top;\n",
       "    }\n",
       "</style>\n",
       "<table border=\"1\" class=\"dataframe\">\n",
       "  <thead>\n",
       "    <tr style=\"text-align: right;\">\n",
       "      <th></th>\n",
       "      <th>text</th>\n",
       "      <th>labels</th>\n",
       "    </tr>\n",
       "  </thead>\n",
       "  <tbody>\n",
       "    <tr>\n",
       "      <th>0</th>\n",
       "      <td>My wife took me here on my birthday for breakf...</td>\n",
       "      <td>1</td>\n",
       "    </tr>\n",
       "    <tr>\n",
       "      <th>1</th>\n",
       "      <td>I have no idea why some people give bad review...</td>\n",
       "      <td>1</td>\n",
       "    </tr>\n",
       "    <tr>\n",
       "      <th>2</th>\n",
       "      <td>love the gyro plate. Rice is so good and I als...</td>\n",
       "      <td>1</td>\n",
       "    </tr>\n",
       "    <tr>\n",
       "      <th>3</th>\n",
       "      <td>Rosie, Dakota, and I LOVE Chaparral Dog Park!!...</td>\n",
       "      <td>1</td>\n",
       "    </tr>\n",
       "    <tr>\n",
       "      <th>4</th>\n",
       "      <td>General Manager Scott Petello is a good egg!!!...</td>\n",
       "      <td>1</td>\n",
       "    </tr>\n",
       "  </tbody>\n",
       "</table>\n",
       "</div>"
      ],
      "text/plain": [
       "                                                text  labels\n",
       "0  My wife took me here on my birthday for breakf...       1\n",
       "1  I have no idea why some people give bad review...       1\n",
       "2  love the gyro plate. Rice is so good and I als...       1\n",
       "3  Rosie, Dakota, and I LOVE Chaparral Dog Park!!...       1\n",
       "4  General Manager Scott Petello is a good egg!!!...       1"
      ]
     },
     "execution_count": 52,
     "metadata": {},
     "output_type": "execute_result"
    }
   ],
   "source": [
    "yelp[\"labels\"]= yelp[\"stars\"].apply(lambda x: 1 if x >= 3  else 0)\n",
    "yelp=yelp.drop(\"stars\",axis=1)\n",
    "\n",
    "yelp.head()"
   ]
  },
  {
   "cell_type": "code",
   "execution_count": 53,
   "metadata": {
    "collapsed": true
   },
   "outputs": [],
   "source": [
    "MAX_NUM_WORDS=1000\n",
    "MAX_SEQUENCE_LENGTH=100"
   ]
  },
  {
   "cell_type": "markdown",
   "metadata": {},
   "source": [
    "The MAX_NUM_WORDS value means the number of unique rows to be used in the embedding vector, which coreesponds to the number of unique words to be used. The MAX_SEQUENCE_LENGTH value means the maximum length of a review to use, means the maximum number of words to be taken from a certain review sentence."
   ]
  },
  {
   "cell_type": "markdown",
   "metadata": {},
   "source": [
    "Now we need to preprocess the text data in integerized word vectors using the Glove word vectors so that we can give that input to our LSTM neural network. The first step in preprocessing will be tokenization, which will seperate each unique words from the sentence, and we will use pad_sequences to pad the sentences to the maximum sequence length MAX_SEQUENCE_LENGTH defined above."
   ]
  },
  {
   "cell_type": "code",
   "execution_count": 54,
   "metadata": {},
   "outputs": [
    {
     "name": "stderr",
     "output_type": "stream",
     "text": [
      "Using TensorFlow backend.\n"
     ]
    }
   ],
   "source": [
    "from keras.preprocessing.text import Tokenizer\n",
    "from keras.preprocessing.sequence import pad_sequences"
   ]
  },
  {
   "cell_type": "code",
   "execution_count": 55,
   "metadata": {
    "collapsed": true
   },
   "outputs": [],
   "source": [
    "texts = yelp[\"text\"].values\n",
    "labels = yelp[\"labels\"].values"
   ]
  },
  {
   "cell_type": "code",
   "execution_count": 56,
   "metadata": {
    "collapsed": true
   },
   "outputs": [],
   "source": [
    "tokenizer = Tokenizer(num_words=MAX_NUM_WORDS)\n",
    "tokenizer.fit_on_texts(texts) # fit the tokenizer on the review text column\n",
    "sequences = tokenizer.texts_to_sequences(texts) #text to sequence transformation"
   ]
  },
  {
   "cell_type": "code",
   "execution_count": 57,
   "metadata": {},
   "outputs": [
    {
     "name": "stdout",
     "output_type": "stream",
     "text": [
      "Found 30816 unique tokens.\n"
     ]
    }
   ],
   "source": [
    "word_index = tokenizer.word_index\n",
    "print('Found %s unique tokens.' % len(word_index))"
   ]
  },
  {
   "cell_type": "code",
   "execution_count": 58,
   "metadata": {
    "collapsed": true
   },
   "outputs": [],
   "source": [
    "data = pad_sequences(sequences, maxlen=MAX_SEQUENCE_LENGTH)"
   ]
  },
  {
   "cell_type": "code",
   "execution_count": 59,
   "metadata": {
    "collapsed": true
   },
   "outputs": [],
   "source": [
    "from keras.utils import to_categorical"
   ]
  },
  {
   "cell_type": "code",
   "execution_count": 60,
   "metadata": {},
   "outputs": [
    {
     "name": "stdout",
     "output_type": "stream",
     "text": [
      "Shape of data tensor: (10000, 100)\n",
      "Shape of label tensor: (10000, 2)\n"
     ]
    }
   ],
   "source": [
    "labels = to_categorical(np.asarray(labels))\n",
    "print('Shape of data tensor:', data.shape)\n",
    "print('Shape of label tensor:', labels.shape)"
   ]
  },
  {
   "cell_type": "code",
   "execution_count": 61,
   "metadata": {
    "collapsed": true
   },
   "outputs": [],
   "source": [
    "VALIDATION_SPLIT=0.2 # we take 20% of the data as validation set."
   ]
  },
  {
   "cell_type": "code",
   "execution_count": 62,
   "metadata": {
    "collapsed": true
   },
   "outputs": [],
   "source": [
    "indices = np.arange(data.shape[0])\n",
    "np.random.shuffle(indices) # randomly shuffle indices to increase diversity in the training set.\n",
    "data = data[indices]\n",
    "labels = labels[indices]\n",
    "nb_validation_samples = int(VALIDATION_SPLIT * data.shape[0])"
   ]
  },
  {
   "cell_type": "code",
   "execution_count": 63,
   "metadata": {
    "collapsed": true
   },
   "outputs": [],
   "source": [
    "# spliting into training and testing set.\n",
    "x_train = data[:-nb_validation_samples]\n",
    "y_train = labels[:-nb_validation_samples]\n",
    "x_val = data[-nb_validation_samples:]\n",
    "y_val = labels[-nb_validation_samples:]"
   ]
  },
  {
   "cell_type": "code",
   "execution_count": 64,
   "metadata": {
    "collapsed": true
   },
   "outputs": [],
   "source": [
    "GLOVE_DIR='../input/glove-global-vectors-for-word-representation/'"
   ]
  },
  {
   "cell_type": "markdown",
   "metadata": {},
   "source": [
    "Here, we use the GloVe. GloVe is an unsupervised learning algorithm for obtaining vector representations for words. Training is performed on aggregated global word-word co-occurrence statistics from a corpus, and the resulting representations showcase interesting linear substructures of the word vector space."
   ]
  },
  {
   "cell_type": "code",
   "execution_count": 65,
   "metadata": {
    "collapsed": true
   },
   "outputs": [],
   "source": [
    "import os\n",
    "embeddings_index = {}\n",
    "f = open(os.path.join('glove.6B.50d.txt'), encoding = \"utf8\")\n",
    "\n",
    "#if you are on a windows machine please use the line below and comment out the above line as we need to provide the path reference in windows.\n",
    "#f = open(os.path.join(GLOVE_DIR, 'glove.6B.50d.txt'), encoding = \"utf8\")\n",
    "# download the glove zip from - https://nlp.stanford.edu/projects/glove/\n",
    "#and put it in the directory of this notebook.\n",
    "for line in f:\n",
    "    values = line.split()\n",
    "    word = values[0]\n",
    "    coefs = np.asarray(values[1:], dtype='float32')\n",
    "    embeddings_index[word] = coefs\n",
    "f.close()\n",
    "\n",
    "# the above for loop iterates along every word and its corresponding vector given in the Glove text file, \n",
    "#and creates a dictionary with the key as the word and the value as the corresponding  integerized word vector. "
   ]
  },
  {
   "cell_type": "code",
   "execution_count": 66,
   "metadata": {},
   "outputs": [
    {
     "name": "stdout",
     "output_type": "stream",
     "text": [
      "Found 400000 word vectors.\n"
     ]
    }
   ],
   "source": [
    "print('Found %s word vectors.' % len(embeddings_index))\n",
    "EMBEDDING_DIM = 50"
   ]
  },
  {
   "cell_type": "markdown",
   "metadata": {},
   "source": [
    "As we have specified the EMBEDDING_DIM value as 50, and we have found 400000 word vectors, the dimensions of our embedding matrix will be 400000 x 50.\n",
    "\n",
    "Now the for loop in the next block of code will take each of the word from the unique words collections of word_index which we defined before from out review texts, and search for the corresponding word vector from the embeddings index dictionary.\n",
    "Now we will put each of the retrieved embedding vector in the embedding matrix, which will be passed as an input to out embedding layer."
   ]
  },
  {
   "cell_type": "code",
   "execution_count": 67,
   "metadata": {
    "collapsed": true
   },
   "outputs": [],
   "source": [
    "embedding_matrix = np.zeros((len(word_index) + 1, EMBEDDING_DIM))\n",
    "for word, i in word_index.items():\n",
    "    embedding_vector = embeddings_index.get(word)\n",
    "    if embedding_vector is not None:\n",
    "        # words not found in embedding index will be all-zeros.\n",
    "        embedding_matrix[i] = embedding_vector"
   ]
  },
  {
   "cell_type": "code",
   "execution_count": 68,
   "metadata": {
    "collapsed": true
   },
   "outputs": [],
   "source": [
    "from keras.layers import Embedding"
   ]
  },
  {
   "cell_type": "code",
   "execution_count": 69,
   "metadata": {
    "collapsed": true
   },
   "outputs": [],
   "source": [
    "embedding_layer = Embedding(len(word_index) + 1,\n",
    "                            EMBEDDING_DIM,\n",
    "                            weights=[embedding_matrix],\n",
    "                            input_length=MAX_SEQUENCE_LENGTH,\n",
    "                            trainable=False)\n",
    "\n",
    "#keras.layers.Embedding(input_dim, output_dim, embeddings_initializer='uniform', embeddings_regularizer=None, activity_regularizer=None, embeddings_constraint=None, mask_zero=False, input_length=None)"
   ]
  },
  {
   "cell_type": "markdown",
   "metadata": {},
   "source": [
    "Now as above we have set the sequence length as 100 for each sequence and the output dimensions as 50, we will get a sequence vector of dimension 100 x 50 for each of the 100 words in sequence."
   ]
  },
  {
   "cell_type": "code",
   "execution_count": 70,
   "metadata": {
    "collapsed": true
   },
   "outputs": [],
   "source": [
    "from keras.layers import Bidirectional, GlobalMaxPool1D,Conv1D"
   ]
  },
  {
   "cell_type": "code",
   "execution_count": 71,
   "metadata": {
    "collapsed": true
   },
   "outputs": [],
   "source": [
    "from keras.layers import Dense, Input, LSTM, Embedding, Dropout, Activation"
   ]
  },
  {
   "cell_type": "code",
   "execution_count": 72,
   "metadata": {
    "collapsed": true
   },
   "outputs": [],
   "source": [
    "from keras.models import Model"
   ]
  },
  {
   "cell_type": "code",
   "execution_count": 73,
   "metadata": {
    "collapsed": true
   },
   "outputs": [],
   "source": [
    "inp = Input(shape=(MAX_SEQUENCE_LENGTH,))\n",
    "x = embedded_sequences = embedding_layer(inp)\n",
    "x = Bidirectional(LSTM(50, return_sequences=True, dropout=0.1, recurrent_dropout=0.1))(x)\n",
    "# as we have set the output dimensions of the embedding layer as 50, we set the input neurons of the first LSTM layer succeding that as 50.\n",
    "x = GlobalMaxPool1D()(x)\n",
    "x = Dense(50, activation=\"relu\")(x)\n",
    "x = Dropout(0.1)(x)\n",
    "x = Dense(2, activation=\"sigmoid\")(x)\n",
    "model = Model(inputs=inp, outputs=x)\n",
    "model.compile(loss='binary_crossentropy', optimizer='adam', metrics=['accuracy'])\n",
    "#The pooling layer serves to progressively reduce the spatial size of the representation, to reduce the number of \n",
    "#parameters and amount of computation in the network, and hence to also control overfitting. \n",
    "#It is common to periodically insert a pooling layer between successive convolutional layers in a CNN architecture.\n",
    "#The pooling operation provides another form of translation invariance."
   ]
  },
  {
   "cell_type": "markdown",
   "metadata": {},
   "source": [
    "We use Binary Crossentropy because we are dealing with binary classification problem here, we chose the activation functions as rectified Linear and Sigmoid for the layers."
   ]
  },
  {
   "cell_type": "code",
   "execution_count": 74,
   "metadata": {},
   "outputs": [
    {
     "name": "stdout",
     "output_type": "stream",
     "text": [
      "Train on 8000 samples, validate on 2000 samples\n",
      "Epoch 1/2\n",
      "8000/8000 [==============================] - 15s 2ms/step - loss: 0.4712 - acc: 0.8230 - val_loss: 0.4373 - val_acc: 0.8320\n",
      "Epoch 2/2\n",
      "8000/8000 [==============================] - 14s 2ms/step - loss: 0.4107 - acc: 0.8328 - val_loss: 0.4042 - val_acc: 0.8320\n"
     ]
    }
   ],
   "source": [
    "model.fit(x_train, y_train, validation_data=(x_val, y_val),\n",
    "          epochs=2, batch_size=128);"
   ]
  },
  {
   "cell_type": "code",
   "execution_count": 75,
   "metadata": {},
   "outputs": [
    {
     "name": "stdout",
     "output_type": "stream",
     "text": [
      "Test accuracy: 0.832\n"
     ]
    }
   ],
   "source": [
    "score, acc = model.evaluate(x_val, y_val,\n",
    "                            batch_size=32,\n",
    "                            verbose=2)\n",
    "print('Test accuracy:', acc)"
   ]
  },
  {
   "cell_type": "markdown",
   "metadata": {},
   "source": [
    "Some code snippets have been referenced from:\n",
    "https://github.com/adeshpande3/LSTM-Sentiment-Analysis/blob/master/Oriole%20LSTM.ipynb\n",
    "by Adit Deshpande is licensed under the MIT License https://opensource.org/licenses/MIT.\n",
    "\n",
    "\n",
    "https://www.kaggle.com/poonaml/bidirectional-lstm-spacy-on-yelp-reviews/notebook\n",
    "open sourced public blog on kaggle.com"
   ]
  },
  {
   "cell_type": "markdown",
   "metadata": {},
   "source": [
    "In this part, we use a simple item based collaborative filtering recommendation algorithm to recommend a restaurant for the user according to the ratings that user has given to other restaurants.\n",
    "The way this works is we compute a correlation score for restaurants based on the similarity of the ratings given to them by the users and then scaling the correlation scores according to each user's rating to that restaurant."
   ]
  },
  {
   "cell_type": "code",
   "execution_count": 76,
   "metadata": {
    "collapsed": true
   },
   "outputs": [],
   "source": [
    "yelp = pd.read_csv('https://raw.githubusercontent.com/shrikumarp/shrikumarpp1/master/yelp.csv')"
   ]
  },
  {
   "cell_type": "code",
   "execution_count": 77,
   "metadata": {},
   "outputs": [
    {
     "data": {
      "text/html": [
       "<div>\n",
       "<style>\n",
       "    .dataframe thead tr:only-child th {\n",
       "        text-align: right;\n",
       "    }\n",
       "\n",
       "    .dataframe thead th {\n",
       "        text-align: left;\n",
       "    }\n",
       "\n",
       "    .dataframe tbody tr th {\n",
       "        vertical-align: top;\n",
       "    }\n",
       "</style>\n",
       "<table border=\"1\" class=\"dataframe\">\n",
       "  <thead>\n",
       "    <tr style=\"text-align: right;\">\n",
       "      <th></th>\n",
       "      <th>business_id</th>\n",
       "      <th>date</th>\n",
       "      <th>review_id</th>\n",
       "      <th>stars</th>\n",
       "      <th>text</th>\n",
       "      <th>type</th>\n",
       "      <th>user_id</th>\n",
       "      <th>cool</th>\n",
       "      <th>useful</th>\n",
       "      <th>funny</th>\n",
       "    </tr>\n",
       "  </thead>\n",
       "  <tbody>\n",
       "    <tr>\n",
       "      <th>0</th>\n",
       "      <td>9yKzy9PApeiPPOUJEtnvkg</td>\n",
       "      <td>2011-01-26</td>\n",
       "      <td>fWKvX83p0-ka4JS3dc6E5A</td>\n",
       "      <td>5</td>\n",
       "      <td>My wife took me here on my birthday for breakf...</td>\n",
       "      <td>review</td>\n",
       "      <td>rLtl8ZkDX5vH5nAx9C3q5Q</td>\n",
       "      <td>2</td>\n",
       "      <td>5</td>\n",
       "      <td>0</td>\n",
       "    </tr>\n",
       "    <tr>\n",
       "      <th>1</th>\n",
       "      <td>ZRJwVLyzEJq1VAihDhYiow</td>\n",
       "      <td>2011-07-27</td>\n",
       "      <td>IjZ33sJrzXqU-0X6U8NwyA</td>\n",
       "      <td>5</td>\n",
       "      <td>I have no idea why some people give bad review...</td>\n",
       "      <td>review</td>\n",
       "      <td>0a2KyEL0d3Yb1V6aivbIuQ</td>\n",
       "      <td>0</td>\n",
       "      <td>0</td>\n",
       "      <td>0</td>\n",
       "    </tr>\n",
       "    <tr>\n",
       "      <th>2</th>\n",
       "      <td>6oRAC4uyJCsJl1X0WZpVSA</td>\n",
       "      <td>2012-06-14</td>\n",
       "      <td>IESLBzqUCLdSzSqm0eCSxQ</td>\n",
       "      <td>4</td>\n",
       "      <td>love the gyro plate. Rice is so good and I als...</td>\n",
       "      <td>review</td>\n",
       "      <td>0hT2KtfLiobPvh6cDC8JQg</td>\n",
       "      <td>0</td>\n",
       "      <td>1</td>\n",
       "      <td>0</td>\n",
       "    </tr>\n",
       "    <tr>\n",
       "      <th>3</th>\n",
       "      <td>_1QQZuf4zZOyFCvXc0o6Vg</td>\n",
       "      <td>2010-05-27</td>\n",
       "      <td>G-WvGaISbqqaMHlNnByodA</td>\n",
       "      <td>5</td>\n",
       "      <td>Rosie, Dakota, and I LOVE Chaparral Dog Park!!...</td>\n",
       "      <td>review</td>\n",
       "      <td>uZetl9T0NcROGOyFfughhg</td>\n",
       "      <td>1</td>\n",
       "      <td>2</td>\n",
       "      <td>0</td>\n",
       "    </tr>\n",
       "    <tr>\n",
       "      <th>4</th>\n",
       "      <td>6ozycU1RpktNG2-1BroVtw</td>\n",
       "      <td>2012-01-05</td>\n",
       "      <td>1uJFq2r5QfJG_6ExMRCaGw</td>\n",
       "      <td>5</td>\n",
       "      <td>General Manager Scott Petello is a good egg!!!...</td>\n",
       "      <td>review</td>\n",
       "      <td>vYmM4KTsC8ZfQBg-j5MWkw</td>\n",
       "      <td>0</td>\n",
       "      <td>0</td>\n",
       "      <td>0</td>\n",
       "    </tr>\n",
       "  </tbody>\n",
       "</table>\n",
       "</div>"
      ],
      "text/plain": [
       "              business_id        date               review_id  stars  \\\n",
       "0  9yKzy9PApeiPPOUJEtnvkg  2011-01-26  fWKvX83p0-ka4JS3dc6E5A      5   \n",
       "1  ZRJwVLyzEJq1VAihDhYiow  2011-07-27  IjZ33sJrzXqU-0X6U8NwyA      5   \n",
       "2  6oRAC4uyJCsJl1X0WZpVSA  2012-06-14  IESLBzqUCLdSzSqm0eCSxQ      4   \n",
       "3  _1QQZuf4zZOyFCvXc0o6Vg  2010-05-27  G-WvGaISbqqaMHlNnByodA      5   \n",
       "4  6ozycU1RpktNG2-1BroVtw  2012-01-05  1uJFq2r5QfJG_6ExMRCaGw      5   \n",
       "\n",
       "                                                text    type  \\\n",
       "0  My wife took me here on my birthday for breakf...  review   \n",
       "1  I have no idea why some people give bad review...  review   \n",
       "2  love the gyro plate. Rice is so good and I als...  review   \n",
       "3  Rosie, Dakota, and I LOVE Chaparral Dog Park!!...  review   \n",
       "4  General Manager Scott Petello is a good egg!!!...  review   \n",
       "\n",
       "                  user_id  cool  useful  funny  \n",
       "0  rLtl8ZkDX5vH5nAx9C3q5Q     2       5      0  \n",
       "1  0a2KyEL0d3Yb1V6aivbIuQ     0       0      0  \n",
       "2  0hT2KtfLiobPvh6cDC8JQg     0       1      0  \n",
       "3  uZetl9T0NcROGOyFfughhg     1       2      0  \n",
       "4  vYmM4KTsC8ZfQBg-j5MWkw     0       0      0  "
      ]
     },
     "execution_count": 77,
     "metadata": {},
     "output_type": "execute_result"
    }
   ],
   "source": [
    "yelp.head()"
   ]
  },
  {
   "cell_type": "code",
   "execution_count": 78,
   "metadata": {
    "collapsed": true
   },
   "outputs": [],
   "source": [
    "yelp = yelp[['business_id','stars','user_id']]"
   ]
  },
  {
   "cell_type": "code",
   "execution_count": 79,
   "metadata": {},
   "outputs": [
    {
     "data": {
      "text/html": [
       "<div>\n",
       "<style>\n",
       "    .dataframe thead tr:only-child th {\n",
       "        text-align: right;\n",
       "    }\n",
       "\n",
       "    .dataframe thead th {\n",
       "        text-align: left;\n",
       "    }\n",
       "\n",
       "    .dataframe tbody tr th {\n",
       "        vertical-align: top;\n",
       "    }\n",
       "</style>\n",
       "<table border=\"1\" class=\"dataframe\">\n",
       "  <thead>\n",
       "    <tr style=\"text-align: right;\">\n",
       "      <th>business_id</th>\n",
       "      <th>-0QBrNvhrPQCaeo7mTo0zQ</th>\n",
       "      <th>-0bUDim5OGuv8R0Qqq6J4A</th>\n",
       "      <th>-1N0Z3uM8xbxKS8XiAnaog</th>\n",
       "      <th>-34jE_5dujSWMIOBudQsiQ</th>\n",
       "      <th>-3WVw1TNQbPBzaKCaQQ1AQ</th>\n",
       "      <th>-3xbryp44xhpN4BohxXDdQ</th>\n",
       "      <th>-4A5xmN21zi_TXnUESauUQ</th>\n",
       "      <th>-5EWgRkudDlcCbQSIL_twA</th>\n",
       "      <th>-5rFC4EVrT-v8g1PSEf6Xg</th>\n",
       "      <th>-6O53B-ksqSKzWM6Y9moEQ</th>\n",
       "      <th>...</th>\n",
       "      <th>zrO-RPR3fSdA7sI-IRGWIQ</th>\n",
       "      <th>zruUQvFySeXyEd7_rQixBg</th>\n",
       "      <th>zsApK-QhjBm2mTqq4VWYPQ</th>\n",
       "      <th>zsWJEyP8YyJkux0muGtiVw</th>\n",
       "      <th>zw2iJahOnSxlzmRlF4al6g</th>\n",
       "      <th>zwToyWL4dT1clsFPK9wI2w</th>\n",
       "      <th>zxjMiqlfUuIQRltSuj9FpQ</th>\n",
       "      <th>zxqvU415r_RtZRKDtdbIKQ</th>\n",
       "      <th>zyCrtvCPdSZDhUrH86vbeA</th>\n",
       "      <th>zyYRWnimLbQt9aCCI_2MZw</th>\n",
       "    </tr>\n",
       "    <tr>\n",
       "      <th>user_id</th>\n",
       "      <th></th>\n",
       "      <th></th>\n",
       "      <th></th>\n",
       "      <th></th>\n",
       "      <th></th>\n",
       "      <th></th>\n",
       "      <th></th>\n",
       "      <th></th>\n",
       "      <th></th>\n",
       "      <th></th>\n",
       "      <th></th>\n",
       "      <th></th>\n",
       "      <th></th>\n",
       "      <th></th>\n",
       "      <th></th>\n",
       "      <th></th>\n",
       "      <th></th>\n",
       "      <th></th>\n",
       "      <th></th>\n",
       "      <th></th>\n",
       "      <th></th>\n",
       "    </tr>\n",
       "  </thead>\n",
       "  <tbody>\n",
       "    <tr>\n",
       "      <th>--65q1FpAL_UQtVZ2PTGew</th>\n",
       "      <td>NaN</td>\n",
       "      <td>NaN</td>\n",
       "      <td>NaN</td>\n",
       "      <td>NaN</td>\n",
       "      <td>NaN</td>\n",
       "      <td>NaN</td>\n",
       "      <td>NaN</td>\n",
       "      <td>NaN</td>\n",
       "      <td>NaN</td>\n",
       "      <td>NaN</td>\n",
       "      <td>...</td>\n",
       "      <td>NaN</td>\n",
       "      <td>NaN</td>\n",
       "      <td>NaN</td>\n",
       "      <td>NaN</td>\n",
       "      <td>NaN</td>\n",
       "      <td>NaN</td>\n",
       "      <td>NaN</td>\n",
       "      <td>NaN</td>\n",
       "      <td>NaN</td>\n",
       "      <td>NaN</td>\n",
       "    </tr>\n",
       "    <tr>\n",
       "      <th>--VxRvXk3b8FwsSbC2Zpxw</th>\n",
       "      <td>NaN</td>\n",
       "      <td>NaN</td>\n",
       "      <td>NaN</td>\n",
       "      <td>NaN</td>\n",
       "      <td>NaN</td>\n",
       "      <td>NaN</td>\n",
       "      <td>NaN</td>\n",
       "      <td>NaN</td>\n",
       "      <td>NaN</td>\n",
       "      <td>NaN</td>\n",
       "      <td>...</td>\n",
       "      <td>NaN</td>\n",
       "      <td>NaN</td>\n",
       "      <td>NaN</td>\n",
       "      <td>NaN</td>\n",
       "      <td>NaN</td>\n",
       "      <td>NaN</td>\n",
       "      <td>NaN</td>\n",
       "      <td>NaN</td>\n",
       "      <td>NaN</td>\n",
       "      <td>NaN</td>\n",
       "    </tr>\n",
       "    <tr>\n",
       "      <th>--rlgfAvvi0BtfRDA1p-VQ</th>\n",
       "      <td>NaN</td>\n",
       "      <td>NaN</td>\n",
       "      <td>NaN</td>\n",
       "      <td>NaN</td>\n",
       "      <td>NaN</td>\n",
       "      <td>NaN</td>\n",
       "      <td>NaN</td>\n",
       "      <td>NaN</td>\n",
       "      <td>NaN</td>\n",
       "      <td>NaN</td>\n",
       "      <td>...</td>\n",
       "      <td>NaN</td>\n",
       "      <td>NaN</td>\n",
       "      <td>NaN</td>\n",
       "      <td>NaN</td>\n",
       "      <td>NaN</td>\n",
       "      <td>NaN</td>\n",
       "      <td>NaN</td>\n",
       "      <td>NaN</td>\n",
       "      <td>NaN</td>\n",
       "      <td>NaN</td>\n",
       "    </tr>\n",
       "    <tr>\n",
       "      <th>-2S6keboidRPly-h5lBfkA</th>\n",
       "      <td>NaN</td>\n",
       "      <td>NaN</td>\n",
       "      <td>NaN</td>\n",
       "      <td>NaN</td>\n",
       "      <td>NaN</td>\n",
       "      <td>NaN</td>\n",
       "      <td>NaN</td>\n",
       "      <td>NaN</td>\n",
       "      <td>NaN</td>\n",
       "      <td>NaN</td>\n",
       "      <td>...</td>\n",
       "      <td>NaN</td>\n",
       "      <td>NaN</td>\n",
       "      <td>NaN</td>\n",
       "      <td>NaN</td>\n",
       "      <td>NaN</td>\n",
       "      <td>NaN</td>\n",
       "      <td>NaN</td>\n",
       "      <td>NaN</td>\n",
       "      <td>NaN</td>\n",
       "      <td>NaN</td>\n",
       "    </tr>\n",
       "    <tr>\n",
       "      <th>-2XA34d6OGYEUuzqC7yhBg</th>\n",
       "      <td>NaN</td>\n",
       "      <td>NaN</td>\n",
       "      <td>NaN</td>\n",
       "      <td>NaN</td>\n",
       "      <td>NaN</td>\n",
       "      <td>NaN</td>\n",
       "      <td>NaN</td>\n",
       "      <td>NaN</td>\n",
       "      <td>NaN</td>\n",
       "      <td>NaN</td>\n",
       "      <td>...</td>\n",
       "      <td>NaN</td>\n",
       "      <td>NaN</td>\n",
       "      <td>NaN</td>\n",
       "      <td>NaN</td>\n",
       "      <td>NaN</td>\n",
       "      <td>NaN</td>\n",
       "      <td>NaN</td>\n",
       "      <td>NaN</td>\n",
       "      <td>NaN</td>\n",
       "      <td>NaN</td>\n",
       "    </tr>\n",
       "  </tbody>\n",
       "</table>\n",
       "<p>5 rows × 4174 columns</p>\n",
       "</div>"
      ],
      "text/plain": [
       "business_id             -0QBrNvhrPQCaeo7mTo0zQ  -0bUDim5OGuv8R0Qqq6J4A  \\\n",
       "user_id                                                                  \n",
       "--65q1FpAL_UQtVZ2PTGew                     NaN                     NaN   \n",
       "--VxRvXk3b8FwsSbC2Zpxw                     NaN                     NaN   \n",
       "--rlgfAvvi0BtfRDA1p-VQ                     NaN                     NaN   \n",
       "-2S6keboidRPly-h5lBfkA                     NaN                     NaN   \n",
       "-2XA34d6OGYEUuzqC7yhBg                     NaN                     NaN   \n",
       "\n",
       "business_id             -1N0Z3uM8xbxKS8XiAnaog  -34jE_5dujSWMIOBudQsiQ  \\\n",
       "user_id                                                                  \n",
       "--65q1FpAL_UQtVZ2PTGew                     NaN                     NaN   \n",
       "--VxRvXk3b8FwsSbC2Zpxw                     NaN                     NaN   \n",
       "--rlgfAvvi0BtfRDA1p-VQ                     NaN                     NaN   \n",
       "-2S6keboidRPly-h5lBfkA                     NaN                     NaN   \n",
       "-2XA34d6OGYEUuzqC7yhBg                     NaN                     NaN   \n",
       "\n",
       "business_id             -3WVw1TNQbPBzaKCaQQ1AQ  -3xbryp44xhpN4BohxXDdQ  \\\n",
       "user_id                                                                  \n",
       "--65q1FpAL_UQtVZ2PTGew                     NaN                     NaN   \n",
       "--VxRvXk3b8FwsSbC2Zpxw                     NaN                     NaN   \n",
       "--rlgfAvvi0BtfRDA1p-VQ                     NaN                     NaN   \n",
       "-2S6keboidRPly-h5lBfkA                     NaN                     NaN   \n",
       "-2XA34d6OGYEUuzqC7yhBg                     NaN                     NaN   \n",
       "\n",
       "business_id             -4A5xmN21zi_TXnUESauUQ  -5EWgRkudDlcCbQSIL_twA  \\\n",
       "user_id                                                                  \n",
       "--65q1FpAL_UQtVZ2PTGew                     NaN                     NaN   \n",
       "--VxRvXk3b8FwsSbC2Zpxw                     NaN                     NaN   \n",
       "--rlgfAvvi0BtfRDA1p-VQ                     NaN                     NaN   \n",
       "-2S6keboidRPly-h5lBfkA                     NaN                     NaN   \n",
       "-2XA34d6OGYEUuzqC7yhBg                     NaN                     NaN   \n",
       "\n",
       "business_id             -5rFC4EVrT-v8g1PSEf6Xg  -6O53B-ksqSKzWM6Y9moEQ  \\\n",
       "user_id                                                                  \n",
       "--65q1FpAL_UQtVZ2PTGew                     NaN                     NaN   \n",
       "--VxRvXk3b8FwsSbC2Zpxw                     NaN                     NaN   \n",
       "--rlgfAvvi0BtfRDA1p-VQ                     NaN                     NaN   \n",
       "-2S6keboidRPly-h5lBfkA                     NaN                     NaN   \n",
       "-2XA34d6OGYEUuzqC7yhBg                     NaN                     NaN   \n",
       "\n",
       "business_id                      ...            zrO-RPR3fSdA7sI-IRGWIQ  \\\n",
       "user_id                          ...                                     \n",
       "--65q1FpAL_UQtVZ2PTGew           ...                               NaN   \n",
       "--VxRvXk3b8FwsSbC2Zpxw           ...                               NaN   \n",
       "--rlgfAvvi0BtfRDA1p-VQ           ...                               NaN   \n",
       "-2S6keboidRPly-h5lBfkA           ...                               NaN   \n",
       "-2XA34d6OGYEUuzqC7yhBg           ...                               NaN   \n",
       "\n",
       "business_id             zruUQvFySeXyEd7_rQixBg  zsApK-QhjBm2mTqq4VWYPQ  \\\n",
       "user_id                                                                  \n",
       "--65q1FpAL_UQtVZ2PTGew                     NaN                     NaN   \n",
       "--VxRvXk3b8FwsSbC2Zpxw                     NaN                     NaN   \n",
       "--rlgfAvvi0BtfRDA1p-VQ                     NaN                     NaN   \n",
       "-2S6keboidRPly-h5lBfkA                     NaN                     NaN   \n",
       "-2XA34d6OGYEUuzqC7yhBg                     NaN                     NaN   \n",
       "\n",
       "business_id             zsWJEyP8YyJkux0muGtiVw  zw2iJahOnSxlzmRlF4al6g  \\\n",
       "user_id                                                                  \n",
       "--65q1FpAL_UQtVZ2PTGew                     NaN                     NaN   \n",
       "--VxRvXk3b8FwsSbC2Zpxw                     NaN                     NaN   \n",
       "--rlgfAvvi0BtfRDA1p-VQ                     NaN                     NaN   \n",
       "-2S6keboidRPly-h5lBfkA                     NaN                     NaN   \n",
       "-2XA34d6OGYEUuzqC7yhBg                     NaN                     NaN   \n",
       "\n",
       "business_id             zwToyWL4dT1clsFPK9wI2w  zxjMiqlfUuIQRltSuj9FpQ  \\\n",
       "user_id                                                                  \n",
       "--65q1FpAL_UQtVZ2PTGew                     NaN                     NaN   \n",
       "--VxRvXk3b8FwsSbC2Zpxw                     NaN                     NaN   \n",
       "--rlgfAvvi0BtfRDA1p-VQ                     NaN                     NaN   \n",
       "-2S6keboidRPly-h5lBfkA                     NaN                     NaN   \n",
       "-2XA34d6OGYEUuzqC7yhBg                     NaN                     NaN   \n",
       "\n",
       "business_id             zxqvU415r_RtZRKDtdbIKQ  zyCrtvCPdSZDhUrH86vbeA  \\\n",
       "user_id                                                                  \n",
       "--65q1FpAL_UQtVZ2PTGew                     NaN                     NaN   \n",
       "--VxRvXk3b8FwsSbC2Zpxw                     NaN                     NaN   \n",
       "--rlgfAvvi0BtfRDA1p-VQ                     NaN                     NaN   \n",
       "-2S6keboidRPly-h5lBfkA                     NaN                     NaN   \n",
       "-2XA34d6OGYEUuzqC7yhBg                     NaN                     NaN   \n",
       "\n",
       "business_id             zyYRWnimLbQt9aCCI_2MZw  \n",
       "user_id                                         \n",
       "--65q1FpAL_UQtVZ2PTGew                     NaN  \n",
       "--VxRvXk3b8FwsSbC2Zpxw                     NaN  \n",
       "--rlgfAvvi0BtfRDA1p-VQ                     NaN  \n",
       "-2S6keboidRPly-h5lBfkA                     NaN  \n",
       "-2XA34d6OGYEUuzqC7yhBg                     NaN  \n",
       "\n",
       "[5 rows x 4174 columns]"
      ]
     },
     "execution_count": 79,
     "metadata": {},
     "output_type": "execute_result"
    }
   ],
   "source": [
    "restrtng = yelp.pivot_table(index=['user_id'],columns=['business_id'],values='stars')\n",
    "restrtng.head()\n",
    "#Here we make a pivot table. columns will be restaurants and rows corresponds to the users."
   ]
  },
  {
   "cell_type": "code",
   "execution_count": 82,
   "metadata": {},
   "outputs": [
    {
     "data": {
      "text/html": [
       "<div>\n",
       "<style>\n",
       "    .dataframe thead tr:only-child th {\n",
       "        text-align: right;\n",
       "    }\n",
       "\n",
       "    .dataframe thead th {\n",
       "        text-align: left;\n",
       "    }\n",
       "\n",
       "    .dataframe tbody tr th {\n",
       "        vertical-align: top;\n",
       "    }\n",
       "</style>\n",
       "<table border=\"1\" class=\"dataframe\">\n",
       "  <thead>\n",
       "    <tr style=\"text-align: right;\">\n",
       "      <th>business_id</th>\n",
       "      <th>-0QBrNvhrPQCaeo7mTo0zQ</th>\n",
       "      <th>-0bUDim5OGuv8R0Qqq6J4A</th>\n",
       "      <th>-1N0Z3uM8xbxKS8XiAnaog</th>\n",
       "      <th>-34jE_5dujSWMIOBudQsiQ</th>\n",
       "      <th>-3WVw1TNQbPBzaKCaQQ1AQ</th>\n",
       "      <th>-3xbryp44xhpN4BohxXDdQ</th>\n",
       "      <th>-4A5xmN21zi_TXnUESauUQ</th>\n",
       "      <th>-5EWgRkudDlcCbQSIL_twA</th>\n",
       "      <th>-5rFC4EVrT-v8g1PSEf6Xg</th>\n",
       "      <th>-6O53B-ksqSKzWM6Y9moEQ</th>\n",
       "      <th>...</th>\n",
       "      <th>zrO-RPR3fSdA7sI-IRGWIQ</th>\n",
       "      <th>zruUQvFySeXyEd7_rQixBg</th>\n",
       "      <th>zsApK-QhjBm2mTqq4VWYPQ</th>\n",
       "      <th>zsWJEyP8YyJkux0muGtiVw</th>\n",
       "      <th>zw2iJahOnSxlzmRlF4al6g</th>\n",
       "      <th>zwToyWL4dT1clsFPK9wI2w</th>\n",
       "      <th>zxjMiqlfUuIQRltSuj9FpQ</th>\n",
       "      <th>zxqvU415r_RtZRKDtdbIKQ</th>\n",
       "      <th>zyCrtvCPdSZDhUrH86vbeA</th>\n",
       "      <th>zyYRWnimLbQt9aCCI_2MZw</th>\n",
       "    </tr>\n",
       "    <tr>\n",
       "      <th>business_id</th>\n",
       "      <th></th>\n",
       "      <th></th>\n",
       "      <th></th>\n",
       "      <th></th>\n",
       "      <th></th>\n",
       "      <th></th>\n",
       "      <th></th>\n",
       "      <th></th>\n",
       "      <th></th>\n",
       "      <th></th>\n",
       "      <th></th>\n",
       "      <th></th>\n",
       "      <th></th>\n",
       "      <th></th>\n",
       "      <th></th>\n",
       "      <th></th>\n",
       "      <th></th>\n",
       "      <th></th>\n",
       "      <th></th>\n",
       "      <th></th>\n",
       "      <th></th>\n",
       "    </tr>\n",
       "  </thead>\n",
       "  <tbody>\n",
       "    <tr>\n",
       "      <th>-0QBrNvhrPQCaeo7mTo0zQ</th>\n",
       "      <td>NaN</td>\n",
       "      <td>NaN</td>\n",
       "      <td>NaN</td>\n",
       "      <td>NaN</td>\n",
       "      <td>NaN</td>\n",
       "      <td>NaN</td>\n",
       "      <td>NaN</td>\n",
       "      <td>NaN</td>\n",
       "      <td>NaN</td>\n",
       "      <td>NaN</td>\n",
       "      <td>...</td>\n",
       "      <td>NaN</td>\n",
       "      <td>NaN</td>\n",
       "      <td>NaN</td>\n",
       "      <td>NaN</td>\n",
       "      <td>NaN</td>\n",
       "      <td>NaN</td>\n",
       "      <td>NaN</td>\n",
       "      <td>NaN</td>\n",
       "      <td>NaN</td>\n",
       "      <td>NaN</td>\n",
       "    </tr>\n",
       "    <tr>\n",
       "      <th>-0bUDim5OGuv8R0Qqq6J4A</th>\n",
       "      <td>NaN</td>\n",
       "      <td>NaN</td>\n",
       "      <td>NaN</td>\n",
       "      <td>NaN</td>\n",
       "      <td>NaN</td>\n",
       "      <td>NaN</td>\n",
       "      <td>NaN</td>\n",
       "      <td>NaN</td>\n",
       "      <td>NaN</td>\n",
       "      <td>NaN</td>\n",
       "      <td>...</td>\n",
       "      <td>NaN</td>\n",
       "      <td>NaN</td>\n",
       "      <td>NaN</td>\n",
       "      <td>NaN</td>\n",
       "      <td>NaN</td>\n",
       "      <td>NaN</td>\n",
       "      <td>NaN</td>\n",
       "      <td>NaN</td>\n",
       "      <td>NaN</td>\n",
       "      <td>NaN</td>\n",
       "    </tr>\n",
       "    <tr>\n",
       "      <th>-1N0Z3uM8xbxKS8XiAnaog</th>\n",
       "      <td>NaN</td>\n",
       "      <td>NaN</td>\n",
       "      <td>NaN</td>\n",
       "      <td>NaN</td>\n",
       "      <td>NaN</td>\n",
       "      <td>NaN</td>\n",
       "      <td>NaN</td>\n",
       "      <td>NaN</td>\n",
       "      <td>NaN</td>\n",
       "      <td>NaN</td>\n",
       "      <td>...</td>\n",
       "      <td>NaN</td>\n",
       "      <td>NaN</td>\n",
       "      <td>NaN</td>\n",
       "      <td>NaN</td>\n",
       "      <td>NaN</td>\n",
       "      <td>NaN</td>\n",
       "      <td>NaN</td>\n",
       "      <td>NaN</td>\n",
       "      <td>NaN</td>\n",
       "      <td>NaN</td>\n",
       "    </tr>\n",
       "    <tr>\n",
       "      <th>-34jE_5dujSWMIOBudQsiQ</th>\n",
       "      <td>NaN</td>\n",
       "      <td>NaN</td>\n",
       "      <td>NaN</td>\n",
       "      <td>NaN</td>\n",
       "      <td>NaN</td>\n",
       "      <td>NaN</td>\n",
       "      <td>NaN</td>\n",
       "      <td>NaN</td>\n",
       "      <td>NaN</td>\n",
       "      <td>NaN</td>\n",
       "      <td>...</td>\n",
       "      <td>NaN</td>\n",
       "      <td>NaN</td>\n",
       "      <td>NaN</td>\n",
       "      <td>NaN</td>\n",
       "      <td>NaN</td>\n",
       "      <td>NaN</td>\n",
       "      <td>NaN</td>\n",
       "      <td>NaN</td>\n",
       "      <td>NaN</td>\n",
       "      <td>NaN</td>\n",
       "    </tr>\n",
       "    <tr>\n",
       "      <th>-3WVw1TNQbPBzaKCaQQ1AQ</th>\n",
       "      <td>NaN</td>\n",
       "      <td>NaN</td>\n",
       "      <td>NaN</td>\n",
       "      <td>NaN</td>\n",
       "      <td>1.0</td>\n",
       "      <td>NaN</td>\n",
       "      <td>NaN</td>\n",
       "      <td>NaN</td>\n",
       "      <td>NaN</td>\n",
       "      <td>NaN</td>\n",
       "      <td>...</td>\n",
       "      <td>NaN</td>\n",
       "      <td>NaN</td>\n",
       "      <td>NaN</td>\n",
       "      <td>NaN</td>\n",
       "      <td>NaN</td>\n",
       "      <td>NaN</td>\n",
       "      <td>NaN</td>\n",
       "      <td>NaN</td>\n",
       "      <td>NaN</td>\n",
       "      <td>NaN</td>\n",
       "    </tr>\n",
       "  </tbody>\n",
       "</table>\n",
       "<p>5 rows × 4174 columns</p>\n",
       "</div>"
      ],
      "text/plain": [
       "business_id             -0QBrNvhrPQCaeo7mTo0zQ  -0bUDim5OGuv8R0Qqq6J4A  \\\n",
       "business_id                                                              \n",
       "-0QBrNvhrPQCaeo7mTo0zQ                     NaN                     NaN   \n",
       "-0bUDim5OGuv8R0Qqq6J4A                     NaN                     NaN   \n",
       "-1N0Z3uM8xbxKS8XiAnaog                     NaN                     NaN   \n",
       "-34jE_5dujSWMIOBudQsiQ                     NaN                     NaN   \n",
       "-3WVw1TNQbPBzaKCaQQ1AQ                     NaN                     NaN   \n",
       "\n",
       "business_id             -1N0Z3uM8xbxKS8XiAnaog  -34jE_5dujSWMIOBudQsiQ  \\\n",
       "business_id                                                              \n",
       "-0QBrNvhrPQCaeo7mTo0zQ                     NaN                     NaN   \n",
       "-0bUDim5OGuv8R0Qqq6J4A                     NaN                     NaN   \n",
       "-1N0Z3uM8xbxKS8XiAnaog                     NaN                     NaN   \n",
       "-34jE_5dujSWMIOBudQsiQ                     NaN                     NaN   \n",
       "-3WVw1TNQbPBzaKCaQQ1AQ                     NaN                     NaN   \n",
       "\n",
       "business_id             -3WVw1TNQbPBzaKCaQQ1AQ  -3xbryp44xhpN4BohxXDdQ  \\\n",
       "business_id                                                              \n",
       "-0QBrNvhrPQCaeo7mTo0zQ                     NaN                     NaN   \n",
       "-0bUDim5OGuv8R0Qqq6J4A                     NaN                     NaN   \n",
       "-1N0Z3uM8xbxKS8XiAnaog                     NaN                     NaN   \n",
       "-34jE_5dujSWMIOBudQsiQ                     NaN                     NaN   \n",
       "-3WVw1TNQbPBzaKCaQQ1AQ                     1.0                     NaN   \n",
       "\n",
       "business_id             -4A5xmN21zi_TXnUESauUQ  -5EWgRkudDlcCbQSIL_twA  \\\n",
       "business_id                                                              \n",
       "-0QBrNvhrPQCaeo7mTo0zQ                     NaN                     NaN   \n",
       "-0bUDim5OGuv8R0Qqq6J4A                     NaN                     NaN   \n",
       "-1N0Z3uM8xbxKS8XiAnaog                     NaN                     NaN   \n",
       "-34jE_5dujSWMIOBudQsiQ                     NaN                     NaN   \n",
       "-3WVw1TNQbPBzaKCaQQ1AQ                     NaN                     NaN   \n",
       "\n",
       "business_id             -5rFC4EVrT-v8g1PSEf6Xg  -6O53B-ksqSKzWM6Y9moEQ  \\\n",
       "business_id                                                              \n",
       "-0QBrNvhrPQCaeo7mTo0zQ                     NaN                     NaN   \n",
       "-0bUDim5OGuv8R0Qqq6J4A                     NaN                     NaN   \n",
       "-1N0Z3uM8xbxKS8XiAnaog                     NaN                     NaN   \n",
       "-34jE_5dujSWMIOBudQsiQ                     NaN                     NaN   \n",
       "-3WVw1TNQbPBzaKCaQQ1AQ                     NaN                     NaN   \n",
       "\n",
       "business_id                      ...            zrO-RPR3fSdA7sI-IRGWIQ  \\\n",
       "business_id                      ...                                     \n",
       "-0QBrNvhrPQCaeo7mTo0zQ           ...                               NaN   \n",
       "-0bUDim5OGuv8R0Qqq6J4A           ...                               NaN   \n",
       "-1N0Z3uM8xbxKS8XiAnaog           ...                               NaN   \n",
       "-34jE_5dujSWMIOBudQsiQ           ...                               NaN   \n",
       "-3WVw1TNQbPBzaKCaQQ1AQ           ...                               NaN   \n",
       "\n",
       "business_id             zruUQvFySeXyEd7_rQixBg  zsApK-QhjBm2mTqq4VWYPQ  \\\n",
       "business_id                                                              \n",
       "-0QBrNvhrPQCaeo7mTo0zQ                     NaN                     NaN   \n",
       "-0bUDim5OGuv8R0Qqq6J4A                     NaN                     NaN   \n",
       "-1N0Z3uM8xbxKS8XiAnaog                     NaN                     NaN   \n",
       "-34jE_5dujSWMIOBudQsiQ                     NaN                     NaN   \n",
       "-3WVw1TNQbPBzaKCaQQ1AQ                     NaN                     NaN   \n",
       "\n",
       "business_id             zsWJEyP8YyJkux0muGtiVw  zw2iJahOnSxlzmRlF4al6g  \\\n",
       "business_id                                                              \n",
       "-0QBrNvhrPQCaeo7mTo0zQ                     NaN                     NaN   \n",
       "-0bUDim5OGuv8R0Qqq6J4A                     NaN                     NaN   \n",
       "-1N0Z3uM8xbxKS8XiAnaog                     NaN                     NaN   \n",
       "-34jE_5dujSWMIOBudQsiQ                     NaN                     NaN   \n",
       "-3WVw1TNQbPBzaKCaQQ1AQ                     NaN                     NaN   \n",
       "\n",
       "business_id             zwToyWL4dT1clsFPK9wI2w  zxjMiqlfUuIQRltSuj9FpQ  \\\n",
       "business_id                                                              \n",
       "-0QBrNvhrPQCaeo7mTo0zQ                     NaN                     NaN   \n",
       "-0bUDim5OGuv8R0Qqq6J4A                     NaN                     NaN   \n",
       "-1N0Z3uM8xbxKS8XiAnaog                     NaN                     NaN   \n",
       "-34jE_5dujSWMIOBudQsiQ                     NaN                     NaN   \n",
       "-3WVw1TNQbPBzaKCaQQ1AQ                     NaN                     NaN   \n",
       "\n",
       "business_id             zxqvU415r_RtZRKDtdbIKQ  zyCrtvCPdSZDhUrH86vbeA  \\\n",
       "business_id                                                              \n",
       "-0QBrNvhrPQCaeo7mTo0zQ                     NaN                     NaN   \n",
       "-0bUDim5OGuv8R0Qqq6J4A                     NaN                     NaN   \n",
       "-1N0Z3uM8xbxKS8XiAnaog                     NaN                     NaN   \n",
       "-34jE_5dujSWMIOBudQsiQ                     NaN                     NaN   \n",
       "-3WVw1TNQbPBzaKCaQQ1AQ                     NaN                     NaN   \n",
       "\n",
       "business_id             zyYRWnimLbQt9aCCI_2MZw  \n",
       "business_id                                     \n",
       "-0QBrNvhrPQCaeo7mTo0zQ                     NaN  \n",
       "-0bUDim5OGuv8R0Qqq6J4A                     NaN  \n",
       "-1N0Z3uM8xbxKS8XiAnaog                     NaN  \n",
       "-34jE_5dujSWMIOBudQsiQ                     NaN  \n",
       "-3WVw1TNQbPBzaKCaQQ1AQ                     NaN  \n",
       "\n",
       "[5 rows x 4174 columns]"
      ]
     },
     "execution_count": 82,
     "metadata": {},
     "output_type": "execute_result"
    }
   ],
   "source": [
    "corrMatrix = restrtng.corr()\n",
    "corrMatrix.head()"
   ]
  },
  {
   "cell_type": "code",
   "execution_count": 83,
   "metadata": {
    "collapsed": true
   },
   "outputs": [],
   "source": [
    "#corrMatrix = restrtng.corr(method='pearson', min_periods=100)\n",
    "#corrMatrix.head()"
   ]
  },
  {
   "cell_type": "code",
   "execution_count": 84,
   "metadata": {},
   "outputs": [
    {
     "data": {
      "text/plain": [
       "business_id\n",
       "cOUS79i4vltKIc_hy4OZBg    5.0\n",
       "j7-YRDU63fw975an55zHGg    5.0\n",
       "k8JnZBspVOI8kLcQek-Chw    4.0\n",
       "luCSjoNQ9q_0QIjKKOy2pQ    4.0\n",
       "r-a-Cn9hxdEnYTtVTB5bMQ    4.0\n",
       "Name: --65q1FpAL_UQtVZ2PTGew, dtype: float64"
      ]
     },
     "execution_count": 84,
     "metadata": {},
     "output_type": "execute_result"
    }
   ],
   "source": [
    "myrating = restrtng.iloc[0].dropna()\n",
    "myrating\n",
    "# we take the ratings taken by the first user. user: --65q1FpAL_UQtVZ2PTGew."
   ]
  },
  {
   "cell_type": "code",
   "execution_count": 85,
   "metadata": {
    "collapsed": true
   },
   "outputs": [],
   "source": [
    "similarrest = pd.Series()\n",
    "for i in range(0, len(myrating.index)):\n",
    "    temp = corrMatrix[myrating.index[i]].dropna()\n",
    "    temp = temp.map(lambda x: x * myrating[i])\n",
    "    similarrest = similarrest.append(temp)\n",
    "\n",
    "# here we iterate through every restaurant rated, take similarities, drop NA values, and then scale each of them with rating."
   ]
  },
  {
   "cell_type": "code",
   "execution_count": 86,
   "metadata": {
    "collapsed": true
   },
   "outputs": [],
   "source": [
    "similarrest.sort_values(inplace = True, ascending = False)"
   ]
  },
  {
   "cell_type": "code",
   "execution_count": 87,
   "metadata": {},
   "outputs": [
    {
     "name": "stdout",
     "output_type": "stream",
     "text": [
      "cOUS79i4vltKIc_hy4OZBg    5.0\n",
      "r-a-Cn9hxdEnYTtVTB5bMQ    4.0\n",
      "luCSjoNQ9q_0QIjKKOy2pQ    4.0\n",
      "pfTwzep_4hRTX_jXoi38cw    4.0\n",
      "k8JnZBspVOI8kLcQek-Chw    4.0\n",
      "dtype: float64\n"
     ]
    }
   ],
   "source": [
    "print (similarrest.head(10))"
   ]
  },
  {
   "cell_type": "code",
   "execution_count": 88,
   "metadata": {
    "collapsed": true
   },
   "outputs": [],
   "source": [
    "similarrest = similarrest.groupby(similarrest.index).sum()\n",
    "# take the sum of all the restaurants with the calculated scaled score."
   ]
  },
  {
   "cell_type": "code",
   "execution_count": 89,
   "metadata": {
    "collapsed": true
   },
   "outputs": [],
   "source": [
    "similarrest.sort_values(inplace = True, ascending = False)\n",
    "# sort the values in descending order"
   ]
  },
  {
   "cell_type": "code",
   "execution_count": 90,
   "metadata": {},
   "outputs": [
    {
     "data": {
      "text/plain": [
       "cOUS79i4vltKIc_hy4OZBg    5.0\n",
       "r-a-Cn9hxdEnYTtVTB5bMQ    4.0\n",
       "pfTwzep_4hRTX_jXoi38cw    4.0\n",
       "luCSjoNQ9q_0QIjKKOy2pQ    4.0\n",
       "k8JnZBspVOI8kLcQek-Chw    4.0\n",
       "dtype: float64"
      ]
     },
     "execution_count": 90,
     "metadata": {},
     "output_type": "execute_result"
    }
   ],
   "source": [
    "similarrest.head(10)"
   ]
  },
  {
   "cell_type": "code",
   "execution_count": 91,
   "metadata": {},
   "outputs": [
    {
     "data": {
      "text/plain": [
       "Index(['cOUS79i4vltKIc_hy4OZBg', 'j7-YRDU63fw975an55zHGg',\n",
       "       'k8JnZBspVOI8kLcQek-Chw', 'luCSjoNQ9q_0QIjKKOy2pQ',\n",
       "       'r-a-Cn9hxdEnYTtVTB5bMQ'],\n",
       "      dtype='object', name='business_id')"
      ]
     },
     "execution_count": 91,
     "metadata": {},
     "output_type": "execute_result"
    }
   ],
   "source": [
    "myrating.index"
   ]
  },
  {
   "cell_type": "code",
   "execution_count": 92,
   "metadata": {
    "collapsed": true
   },
   "outputs": [],
   "source": [
    "filteredrest = similarrest.drop(myrating.index, errors = 'ignore')\n",
    "\n",
    "# We remove the restaurants which the user has already reviewed."
   ]
  },
  {
   "cell_type": "code",
   "execution_count": 93,
   "metadata": {},
   "outputs": [
    {
     "data": {
      "text/plain": [
       "pfTwzep_4hRTX_jXoi38cw    4.0\n",
       "dtype: float64"
      ]
     },
     "execution_count": 93,
     "metadata": {},
     "output_type": "execute_result"
    }
   ],
   "source": [
    "filteredrest.head(10)"
   ]
  },
  {
   "cell_type": "markdown",
   "metadata": {},
   "source": [
    "Hence above we get the restaurant that is most similar to the restaurants that the user '--65q1FpAL_UQtVZ2PTGew' reviewed, and correlated the most with highly rated restaurants by that user, hence we can recommend this restaurant/food establishment to that user. This method is recommendation based on item or entity similarity, which is also the basis of many recommendation algorithms used by companies such as Amazon or Netflix to recommend the users new products and content."
   ]
  },
  {
   "cell_type": "markdown",
   "metadata": {},
   "source": [
    "REFERENCES:\n",
    "\n",
    "•\thttps://github.com/adeshpande3/LSTM-Sentiment-Analysis/blob/master/Oriole%20LSTM.ipynb\n",
    "\n",
    "•\thttps://machinelearningmastery.com/develop-bidirectional-lstm-sequence-classification-python-keras/\n",
    "•\thttp://colah.github.io/posts/2015-08-Understanding-LSTMs/\n",
    "\n",
    "•\thttps://link.springer.com/content/pdf/10.1007/978-81-322-1602-5_75.pdf    \n",
    "Namita Mittal: Text Classification Using Machine Learning Methods-A Survey\n",
    "\n",
    "•\thttps://arxiv.org/pdf/1402.4380.pdf\n",
    "Samuel Danso , Eric Atwell and Owen Johnson\n",
    "A Comparative Study of Machine Learning Methods for Verbal Autopsy Text Classification\n",
    "\n",
    "•\thttps://www.cs.cornell.edu/people/tj/publications/joachims_98a.pdf\n",
    "Thorsten Joachims\n",
    "Text Categorization with Support Vector Machines: Learning with Many Relevant Features\n",
    "\n",
    "•\thttp://www.cs.utexas.edu/~ml/papers/discotex-melm-03.pdf\n",
    "Raymond J. Mooney and Un Yong Nahm\n",
    "Text Mining with Information Extraction\n",
    "\n",
    "•\thttps://scholarship.sha.cornell.edu/cgi/viewcontent.cgi?referer=https://www.google.com/&httpsredir=1&article=1003&context=chrreports\n",
    "Hyun Jeong “Spring” Han, Shawn Mankad\n",
    "Nagesh Gavirneni\n",
    "Rohit Verma\n",
    "What Guests Really Think of Your Hotel: Text Analytics of Online Customer Reviews\n",
    "\n",
    "•\thttp://www.cs.ubc.ca/~nando/540-2013/projects/p9.pdf\n",
    "Exploring the Yelp Data Set: Extracting Useful Features with Text Mining and Exploring Regression Techniques for Count Data\n",
    "\n",
    "•\thttp://www.ics.uci.edu/~vpsaini/files/technical_report.pdf\n",
    "Hitesh Sajnani, Vaibhav Saini, Kusum Kumar , Eugenia Gabrielova , Pramit Choudary, Cristina Lopes, Classifying Yelp reviews into relevant categories\n"
   ]
  },
  {
   "cell_type": "markdown",
   "metadata": {},
   "source": [
    "MIT License\n",
    "\n",
    "Copyright (c) 2018 Shrikumar Patil, Akshay Shinde\n",
    "\n",
    "Permission is hereby granted, free of charge, to any person obtaining a copy\n",
    "of this software and associated documentation files (the \"Software\"), to deal\n",
    "in the Software without restriction, including without limitation the rights\n",
    "to use, copy, modify, merge, publish, distribute, sublicense, and/or sell\n",
    "copies of the Software, and to permit persons to whom the Software is\n",
    "furnished to do so, subject to the following conditions:\n",
    "\n",
    "The above copyright notice and this permission notice shall be included in all\n",
    "copies or substantial portions of the Software.\n",
    "\n",
    "THE SOFTWARE IS PROVIDED \"AS IS\", WITHOUT WARRANTY OF ANY KIND, EXPRESS OR\n",
    "IMPLIED, INCLUDING BUT NOT LIMITED TO THE WARRANTIES OF MERCHANTABILITY,\n",
    "FITNESS FOR A PARTICULAR PURPOSE AND NONINFRINGEMENT. IN NO EVENT SHALL THE\n",
    "AUTHORS OR COPYRIGHT HOLDERS BE LIABLE FOR ANY CLAIM, DAMAGES OR OTHER\n",
    "LIABILITY, WHETHER IN AN ACTION OF CONTRACT, TORT OR OTHERWISE, ARISING FROM,\n",
    "OUT OF OR IN CONNECTION WITH THE SOFTWARE OR THE USE OR OTHER DEALINGS IN THE\n",
    "SOFTWARE."
   ]
  }
 ],
 "metadata": {
  "kernelspec": {
   "display_name": "Python 3",
   "language": "python",
   "name": "python3"
  },
  "language_info": {
   "codemirror_mode": {
    "name": "ipython",
    "version": 3
   },
   "file_extension": ".py",
   "mimetype": "text/x-python",
   "name": "python",
   "nbconvert_exporter": "python",
   "pygments_lexer": "ipython3",
   "version": "3.6.3"
  }
 },
 "nbformat": 4,
 "nbformat_minor": 2
}
